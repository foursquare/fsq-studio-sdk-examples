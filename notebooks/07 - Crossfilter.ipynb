{
 "cells": [
  {
   "cell_type": "markdown",
   "id": "810a72e5-6928-47e1-bdbe-5ff5c58cb8b0",
   "metadata": {},
   "source": [
    "# Cross-filtering\n",
    "\n",
    "[![open_in_colab][colab_badge]][colab_notebook_link]\n",
    "[![open_in_binder][binder_badge]][binder_notebook_link]\n",
    "\n",
    "[colab_badge]: https://colab.research.google.com/assets/colab-badge.svg\n",
    "[colab_notebook_link]: https://colab.research.google.com/github/UnfoldedInc/examples/blob/master/notebooks/07%20-%20Crossfilter.ipynb\n",
    "[binder_badge]: https://mybinder.org/badge_logo.svg\n",
    "[binder_notebook_link]: https://mybinder.org/v2/gh/UnfoldedInc/examples/master?urlpath=lab/tree/notebooks/07%20-%20Crossfilter.ipynb"
   ]
  },
  {
   "cell_type": "markdown",
   "id": "a5890a22-9d6d-4a0b-9e5e-c77ff03881e3",
   "metadata": {},
   "source": [
    "Cross-filtering is a technique often used in dashboards where filters are synced across multiple views which represent different facets of the same data. This example shows how Unfolded map filters can be coordinated with Plotly charts."
   ]
  },
  {
   "cell_type": "markdown",
   "id": "bccd4aa8",
   "metadata": {},
   "source": [
    "## Dependencies\n",
    "\n",
    "This notebook requires the following Python dependencies:\n",
    "\n",
    "- `unfolded.map-sdk`: The Unfolded Map SDK\n",
    "- `pandas`: DataFrame library\n",
    "- `plotly`: graph plotting library\n",
    "\n",
    "If running this notebook in Binder, these dependencies should already be installed. If running in Colab, the next cell will install these dependencies."
   ]
  },
  {
   "cell_type": "code",
   "execution_count": null,
   "id": "fcc7e6c9",
   "metadata": {},
   "outputs": [],
   "source": [
    "# If in Colab, install this notebook's required dependencies\n",
    "import sys\n",
    "if \"google.colab\" in sys.modules:\n",
    "    !pip install 'unfolded.map_sdk>=1.0' pandas plotly"
   ]
  },
  {
   "cell_type": "markdown",
   "id": "488563a6",
   "metadata": {},
   "source": [
    "## Imports"
   ]
  },
  {
   "cell_type": "code",
   "execution_count": null,
   "id": "5dcd09f5",
   "metadata": {},
   "outputs": [],
   "source": [
    "from unfolded.map_sdk import create_map\n",
    "import pandas as pd\n",
    "import plotly.graph_objects as go"
   ]
  },
  {
   "cell_type": "markdown",
   "id": "d47acb82",
   "metadata": {},
   "source": [
    "## Syncing a map filter with a Plotly histogram"
   ]
  },
  {
   "cell_type": "markdown",
   "id": "2ddf92a9-2dfd-45d0-8edf-32cbca14bd0c",
   "metadata": {},
   "source": [
    "Let's create a local map and add data to it:"
   ]
  },
  {
   "cell_type": "code",
   "execution_count": null,
   "id": "928756e8-94ad-41be-8590-6da1a495c7de",
   "metadata": {},
   "outputs": [],
   "source": [
    "unfolded_map = create_map()\n",
    "unfolded_map"
   ]
  },
  {
   "cell_type": "code",
   "execution_count": null,
   "id": "d854e55b-83ed-4a58-a861-9a31f18dfe08",
   "metadata": {},
   "outputs": [],
   "source": [
    "url = 'https://raw.githubusercontent.com/UnfoldedInc/examples/master/notebooks/data/earthquakes.csv'\n",
    "df = pd.read_csv(url)"
   ]
  },
  {
   "cell_type": "code",
   "execution_count": null,
   "id": "93c4b4ca-5842-44b5-a8c4-7edf96b64929",
   "metadata": {},
   "outputs": [],
   "source": [
    "unfolded_map.add_dataset({\n",
    "    'label': 'Earthquakes',\n",
    "    'data': df\n",
    "})"
   ]
  },
  {
   "cell_type": "markdown",
   "id": "7052b802-abb2-491d-a93a-120a197612cb",
   "metadata": {},
   "source": [
    "We can use Plotly to draw a histogram showing the distribution of the numbers of earthquakes by their magnitude:"
   ]
  },
  {
   "cell_type": "code",
   "execution_count": null,
   "id": "9c1c0fd7-4740-48bf-867e-07984c45afbb",
   "metadata": {},
   "outputs": [],
   "source": [
    "hist_fig = go.FigureWidget([go.Histogram(x = df['Magnitude'], nbinsx = 50)])\n",
    "hist = hist_fig.data[0]"
   ]
  },
  {
   "cell_type": "markdown",
   "id": "9873ed9a-8c2c-4e24-8a30-1adc59726dc3",
   "metadata": {},
   "source": [
    "Let's now add event handlers. We supply an `on_selection` function that will be called when the selection in the Plotly histogram is changed:"
   ]
  },
  {
   "cell_type": "code",
   "execution_count": null,
   "id": "1a7784fe-3a59-49ae-9419-76a5d91459e4",
   "metadata": {},
   "outputs": [],
   "source": [
    "def on_histogram_selection_change(trace, points, state):\n",
    "    # Update the Magnitude filter in the map\n",
    "    unfolded_map.set_filter({\n",
    "        'id': 'magnitude_filter',\n",
    "        'field': 'Magnitude',\n",
    "        'value': [min(points.xs), max(points.xs)]\n",
    "    })\n",
    "hist_fig.data[0].on_selection(on_histogram_selection_change)"
   ]
  },
  {
   "cell_type": "markdown",
   "id": "01f2c857-3dd4-476a-9afd-e2b637df64e0",
   "metadata": {},
   "source": [
    "The `on_selection` event handler will be called when a filter in the Unfolded map is changed (refer to the [Map SDK docs](https://docs.unfolded.ai/map-sdk/api/set-map-event-handlers) for more info on map event handling):"
   ]
  },
  {
   "cell_type": "code",
   "execution_count": null,
   "id": "70925541-1928-43f7-b90a-b226bb9e3495",
   "metadata": {},
   "outputs": [],
   "source": [
    "def on_map_filter_change(event_info):\n",
    "    # Update the selection in the histogram\n",
    "    if 'Magnitude' in event_info['name'] and event_info['prop'] == 'value':\n",
    "        v = event_info['value']\n",
    "        condition = df['Magnitude'].between(v[0], v[1])\n",
    "        indices = tuple(df.index[condition])\n",
    "        hist.selectedpoints = indices\n",
    "\n",
    "unfolded_map.set_map_event_handlers({\n",
    "    'on_filter': on_map_filter_change\n",
    "})"
   ]
  },
  {
   "cell_type": "markdown",
   "id": "bb59ea3b-2ffc-41db-8a12-3139c8817728",
   "metadata": {},
   "source": [
    "Now let's render the histogram:"
   ]
  },
  {
   "cell_type": "code",
   "execution_count": null,
   "id": "25007028-4f04-4dcc-878c-1e70a15e112a",
   "metadata": {},
   "outputs": [],
   "source": [
    "hist_fig.update_layout(\n",
    "    title = 'Earthquakes by magnitude',\n",
    "    height = 350, \n",
    "    xaxis = {'title': 'Magnitude'},\n",
    "    yaxis = {'title': 'Count'},\n",
    "    dragmode = 'select',\n",
    "    hovermode = 'closest'\n",
    ")\n",
    "hist_fig"
   ]
  },
  {
   "cell_type": "markdown",
   "id": "7b42953b-5820-4c21-9c3f-a0cfbe675307",
   "metadata": {},
   "source": [
    "You can now open the left side bar in the map and select **Filters** in the top nav menu:"
   ]
  },
  {
   "cell_type": "markdown",
   "id": "34e48a68-39d4-44e0-b6e1-2b562f3a7de4",
   "metadata": {},
   "source": [
    "<img src=\"https://raw.githubusercontent.com/UnfoldedInc/examples/master/notebooks/images/studio-filters-pane-2.jpg\" width=350>"
   ]
  },
  {
   "cell_type": "markdown",
   "id": "b72c25c9-3386-4d54-8d7a-984c125c7908",
   "metadata": {},
   "source": [
    "Try changing the selection in the Plotly histogram by dragging (make sure you are using the **Box Select** tool). You should see the Magnitude filter update in the map when you change the selection in the Plotly histogram and vice versa:"
   ]
  },
  {
   "cell_type": "markdown",
   "id": "f4f797db-0111-419d-b399-93fe14e43127",
   "metadata": {},
   "source": [
    "<img src=\"https://raw.githubusercontent.com/UnfoldedInc/examples/master/notebooks/images/crossfilter-480.gif\" width=480>"
   ]
  },
  {
   "cell_type": "markdown",
   "id": "8ea1685f-2f84-4423-9fa9-50883bf36cfd",
   "metadata": {},
   "source": [
    "## Scatterplot"
   ]
  },
  {
   "cell_type": "markdown",
   "id": "15dd9f89-4546-4203-b97b-368813184ac7",
   "metadata": {},
   "source": [
    "Let's now do the same with a more sophisticated chart, a scatterplot:"
   ]
  },
  {
   "cell_type": "code",
   "execution_count": null,
   "id": "96ec1f4b-c654-43b0-b165-612c15f4554e",
   "metadata": {},
   "outputs": [],
   "source": [
    "scatter_fig = go.FigureWidget([\n",
    "    go.Scattergl(\n",
    "        x = df['Magnitude'],\n",
    "        y = df['Depth'], \n",
    "        marker = {'color': df['Depth'], 'size': df['Magnitude']}, \n",
    "        mode = 'markers'\n",
    "    )\n",
    "])\n",
    "scatter = scatter_fig.data[0]"
   ]
  },
  {
   "cell_type": "markdown",
   "id": "848e65a3-78d6-4363-9e19-e20ab60512b0",
   "metadata": {},
   "source": [
    "Let's again add event handlers. This function will be called when the selection in the scatterplot is changed:"
   ]
  },
  {
   "cell_type": "code",
   "execution_count": null,
   "id": "10145222-b7c3-44c4-80dc-eca4391b746c",
   "metadata": {},
   "outputs": [],
   "source": [
    "depth_filter = [df['Depth'].min(), df['Depth'].max()]\n",
    "magnitude_filter = [df['Magnitude'].min(), df['Magnitude'].max()]\n",
    "\n",
    "def on_scatterplot_selection_change(trace, points, state):\n",
    "    # These need to be declared as global so that they\n",
    "    # refer to the global scope variables defined above\n",
    "    global magnitude_filter\n",
    "    global depth_filter\n",
    "    magnitude_filter = [\n",
    "        min(points.xs, default = df['Magnitude'].min()), \n",
    "        max(points.xs, default = df['Magnitude'].max())\n",
    "    ]\n",
    "    depth_filter = [\n",
    "        min(points.ys, default = df['Depth'].min()),\n",
    "        max(points.ys, default = df['Depth'].max())\n",
    "    ]\n",
    "    unfolded_map.set_filter({\n",
    "        'id': 'magnitude_filter',\n",
    "        'field': 'Magnitude',\n",
    "        'value': magnitude_filter \n",
    "    })\n",
    "    unfolded_map.set_filter({\n",
    "        'id': 'depth_filter',\n",
    "        'field': 'Depth',\n",
    "        'value': depth_filter\n",
    "    })\n",
    "scatter_fig.data[0].on_selection(on_scatterplot_selection_change)"
   ]
  },
  {
   "cell_type": "markdown",
   "id": "181d92ab-aa6c-41bd-941b-2471763e45a3",
   "metadata": {},
   "source": [
    "Note that we are now setting two filters: one for `Magnitude`, another for `Depth`."
   ]
  },
  {
   "cell_type": "markdown",
   "id": "d10ecec5-cf4b-4274-949e-fd330cb7ede6",
   "metadata": {},
   "source": [
    "Let's add a map filter event handler:"
   ]
  },
  {
   "cell_type": "code",
   "execution_count": null,
   "id": "78a5f1ce-2f22-4a38-ae4f-4aaecec6c97c",
   "metadata": {},
   "outputs": [],
   "source": [
    "def on_map_filter_change2(event_info):\n",
    "    global magnitude_filter\n",
    "    global depth_filter\n",
    "    if event_info['prop'] == 'value':\n",
    "        if 'Magnitude' in event_info['name']:\n",
    "            v = event_info['value']\n",
    "            magnitude_filter = v\n",
    "            condition = df[\n",
    "                df['Magnitude'].between(v[0], v[1]) & \n",
    "                df['Depth'].between(depth_filter[0], depth_filter[1])\n",
    "            ]\n",
    "            scatter.selectedpoints = tuple(condition.index)\n",
    "        elif 'Depth' in event_info['name']:\n",
    "            v = event_info['value']\n",
    "            depth_filter = v\n",
    "            condition = df[\n",
    "                df['Magnitude'].between(magnitude_filter[0], magnitude_filter[1]) & \n",
    "                df['Depth'].between(v[0], v[1])\n",
    "            ]\n",
    "            scatter.selectedpoints = tuple(condition.index)\n",
    "\n",
    "# This will overwrite the previously set map on_filter event handler\n",
    "unfolded_map.set_map_event_handlers({\n",
    "    'on_filter': on_map_filter_change2\n",
    "})"
   ]
  },
  {
   "cell_type": "markdown",
   "id": "1414a1af-5e19-407c-9cba-fade20f3e594",
   "metadata": {},
   "source": [
    "Let's now render the scatterplot:"
   ]
  },
  {
   "cell_type": "code",
   "execution_count": null,
   "id": "0e8dd2bb-69c1-437a-9dd9-992ba2351b3b",
   "metadata": {},
   "outputs": [],
   "source": [
    "scatter_fig.update_layout(\n",
    "    title = 'Earthquakes by depth and magnitude',\n",
    "    width = 700, \n",
    "    height = 500, \n",
    "    xaxis = {'title': 'Magnitude'},\n",
    "    yaxis = {'title': 'Depth'},\n",
    "    dragmode = 'select',\n",
    "    hovermode = 'closest'\n",
    ")\n",
    "scatter_fig"
   ]
  },
  {
   "cell_type": "markdown",
   "id": "21dfbcc5-0bb0-49b5-8d67-96f53e62d536",
   "metadata": {},
   "source": [
    "You can interactively select a subset of the data in the Plotly scatterplot (use the **Box Select** tool in the  Scatterplot chart toolbar, **Lasso Select** doesn't sync correctly yet). You should see the Magnitude and Depth filters automatically update in the map when you change the selection in the scatterplot."
   ]
  },
  {
   "cell_type": "markdown",
   "id": "7b118826-7c91-4e5f-b9f6-48e374cea936",
   "metadata": {},
   "source": [
    "Likewise, if you change one of the filters in the map, you should see the selection update in the Plotly scatterplot."
   ]
  }
 ],
 "metadata": {
  "kernelspec": {
   "display_name": "Python 3",
   "language": "python",
   "name": "python3"
  },
  "language_info": {
   "codemirror_mode": {
    "name": "ipython",
    "version": 3
   },
   "file_extension": ".py",
   "mimetype": "text/x-python",
   "name": "python",
   "nbconvert_exporter": "python",
   "pygments_lexer": "ipython3",
   "version": "3.8.10"
  }
 },
 "nbformat": 4,
 "nbformat_minor": 5
}
