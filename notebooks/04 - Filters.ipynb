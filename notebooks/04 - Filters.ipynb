{
 "cells": [
  {
   "cell_type": "markdown",
   "id": "810a72e5-6928-47e1-bdbe-5ff5c58cb8b0",
   "metadata": {},
   "source": [
    "# Filters\n",
    "\n",
    "[![open_in_colab][colab_badge]][colab_notebook_link]\n",
    "[![open_in_binder][binder_badge]][binder_notebook_link]\n",
    "\n",
    "[colab_badge]: https://colab.research.google.com/assets/colab-badge.svg\n",
    "[colab_notebook_link]: https://colab.research.google.com/github/UnfoldedInc/examples/blob/master/notebooks/05%20-%20Filters.ipynb\n",
    "[binder_badge]: https://mybinder.org/badge_logo.svg\n",
    "[binder_notebook_link]: https://mybinder.org/v2/gh/UnfoldedInc/examples/master?urlpath=lab/tree/notebooks/05%20-%20Filters.ipynb"
   ]
  },
  {
   "cell_type": "markdown",
   "id": "a5890a22-9d6d-4a0b-9e5e-c77ff03881e3",
   "metadata": {},
   "source": [
    "This example shows how to control map filters and listen to map filter change events with Unfolded Map SDK."
   ]
  },
  {
   "cell_type": "markdown",
   "id": "5ba22634",
   "metadata": {},
   "source": [
    "## Dependencies\n",
    "\n",
    "This notebook requires the following Python dependencies:\n",
    "\n",
    "- `unfolded.map-sdk`: The Unfolded Map SDK\n",
    "- `pandas`: DataFrame library\n",
    "\n",
    "If running this notebook in Binder, these dependencies should already be installed. If running in Colab, the next cell will install these dependencies."
   ]
  },
  {
   "cell_type": "code",
   "execution_count": 1,
   "id": "4690d20f",
   "metadata": {},
   "outputs": [],
   "source": [
    "# If in Colab, install this notebook's required dependencies\n",
    "import sys\n",
    "if \"google.colab\" in sys.modules:\n",
    "    !pip install 'unfolded.map_sdk>=1.0' pandas"
   ]
  },
  {
   "cell_type": "markdown",
   "id": "a072d4bb",
   "metadata": {},
   "source": [
    "## Imports"
   ]
  },
  {
   "cell_type": "code",
   "execution_count": 2,
   "id": "47d4496f",
   "metadata": {},
   "outputs": [],
   "source": [
    "from unfolded.map_sdk import create_map\n",
    "import pandas as pd\n",
    "from sidecar import Sidecar\n",
    "import ipywidgets as widgets\n",
    "from uuid import uuid4"
   ]
  },
  {
   "cell_type": "markdown",
   "id": "c3b24d78",
   "metadata": {},
   "source": [
    "## Using Map Filters"
   ]
  },
  {
   "cell_type": "markdown",
   "id": "2ddf92a9-2dfd-45d0-8edf-32cbca14bd0c",
   "metadata": {},
   "source": [
    "Let's again create a local map and add data to it:"
   ]
  },
  {
   "cell_type": "code",
   "execution_count": 3,
   "id": "928756e8-94ad-41be-8590-6da1a495c7de",
   "metadata": {},
   "outputs": [],
   "source": [
    "unfolded_map = create_map()\n",
    "sc = Sidecar(title='Unfolded Map', anchor='split-right')\n",
    "with sc:\n",
    "    display(unfolded_map)"
   ]
  },
  {
   "cell_type": "code",
   "execution_count": 4,
   "id": "d854e55b-83ed-4a58-a861-9a31f18dfe08",
   "metadata": {},
   "outputs": [],
   "source": [
    "url = 'https://raw.githubusercontent.com/UnfoldedInc/examples/master/notebooks/data/earthquakes.csv'\n",
    "df = pd.read_csv(url)"
   ]
  },
  {
   "cell_type": "code",
   "execution_count": 5,
   "id": "93c4b4ca-5842-44b5-a8c4-7edf96b64929",
   "metadata": {},
   "outputs": [
    {
     "data": {
      "text/plain": [
       "LocalDataset(id='3758e7d7-4f73-4d29-9d66-933c6ebedcb9', type=<DatasetType.LOCAL: 'local'>, label='Earthquakes', color=(143, 47, 191), fields=[BasicField(name='column_0', label='column_0', type=<BasicFieldType.INTEGER: 'integer'>), TimestampField(name='DateTime', label='DateTime', type=<TimestampFieldType.TIMESTAMP: 'timestamp'>, time_format='YYYY/M/D HH:mm:ss.SSSS'), BasicField(name='Latitude', label='Latitude', type=<BasicFieldType.REAL: 'real'>), BasicField(name='Longitude', label='Longitude', type=<BasicFieldType.REAL: 'real'>), BasicField(name='Depth', label='Depth', type=<BasicFieldType.REAL: 'real'>), BasicField(name='Magnitude', label='Magnitude', type=<BasicFieldType.REAL: 'real'>), BasicField(name='MagType', label='MagType', type=<BasicFieldType.STRING: 'string'>), BasicField(name='NbStations', label='NbStations', type=<BasicFieldType.INTEGER: 'integer'>), BasicField(name='Gap', label='Gap', type=<BasicFieldType.INTEGER: 'integer'>), BasicField(name='Distance', label='Distance', type=<BasicFieldType.INTEGER: 'integer'>), BasicField(name='RMS', label='RMS', type=<BasicFieldType.REAL: 'real'>), BasicField(name='Source', label='Source', type=<BasicFieldType.STRING: 'string'>), BasicField(name='EventID', label='EventID', type=<BasicFieldType.INTEGER: 'integer'>)])"
      ]
     },
     "execution_count": 5,
     "metadata": {},
     "output_type": "execute_result"
    }
   ],
   "source": [
    "dataset_id = str(uuid4())\n",
    "unfolded_map.add_dataset({\n",
    "    'id': dataset_id,\n",
    "    'label': 'Earthquakes',\n",
    "    'data': df\n",
    "})"
   ]
  },
  {
   "cell_type": "markdown",
   "id": "ce89a216-1d6d-404f-8bd6-9fde9fc6bfa8",
   "metadata": {},
   "source": [
    "## Adding a filter"
   ]
  },
  {
   "cell_type": "markdown",
   "id": "aa7e53b6-0ea6-4401-b811-d6566164e37c",
   "metadata": {},
   "source": [
    "Say, we want to filter the data points by the `Magnitude` column. Let's first find out what's the extent of the values in this column:"
   ]
  },
  {
   "cell_type": "code",
   "execution_count": 6,
   "id": "b336c294-787f-4bd9-82cf-2b917ad746db",
   "metadata": {},
   "outputs": [
    {
     "data": {
      "text/plain": [
       "[2.5, 7.39]"
      ]
     },
     "execution_count": 6,
     "metadata": {},
     "output_type": "execute_result"
    }
   ],
   "source": [
    "magnitude_extent = [df['Magnitude'].min(), df['Magnitude'].max()]\n",
    "magnitude_extent"
   ]
  },
  {
   "cell_type": "markdown",
   "id": "e1f54dfd-a166-47bd-b26e-17b8b6a74f15",
   "metadata": {},
   "source": [
    "Now we can set the filter to only show the points in the top half of the range:"
   ]
  },
  {
   "cell_type": "code",
   "execution_count": 7,
   "id": "24699be3-3cf8-4769-b72d-988443fba713",
   "metadata": {},
   "outputs": [
    {
     "data": {
      "text/plain": [
       "RangeFilter(id='magnitude_filter', type=<FilterType.RANGE: 'range'>, sources=[FilterSource(data_id='3758e7d7-4f73-4d29-9d66-933c6ebedcb9', field_name='Magnitude')], value=(4.945, 7.39))"
      ]
     },
     "execution_count": 7,
     "metadata": {},
     "output_type": "execute_result"
    }
   ],
   "source": [
    "unfolded_map.add_filter({\n",
    "    'id': 'magnitude_filter',\n",
    "    'sources': [\n",
    "        {\n",
    "            'data_id': dataset_id,\n",
    "            'field_name': 'Magnitude'\n",
    "        }\n",
    "    ], \n",
    "    'value': (\n",
    "        (magnitude_extent[1] + magnitude_extent[0])/2,\n",
    "        magnitude_extent[1]\n",
    "    )\n",
    "})"
   ]
  },
  {
   "cell_type": "markdown",
   "id": "4152141a-403f-462c-b936-8d88501114c3",
   "metadata": {},
   "source": [
    "Or the bottom half:"
   ]
  },
  {
   "cell_type": "code",
   "execution_count": 8,
   "id": "8892175e-e1e2-4e37-bc93-f61fb3dac981",
   "metadata": {},
   "outputs": [
    {
     "data": {
      "text/plain": [
       "RangeFilter(id='magnitude_filter', type=<FilterType.RANGE: 'range'>, sources=[FilterSource(data_id='3758e7d7-4f73-4d29-9d66-933c6ebedcb9', field_name='Magnitude')], value=(2.5, 4.945))"
      ]
     },
     "execution_count": 8,
     "metadata": {},
     "output_type": "execute_result"
    }
   ],
   "source": [
    "unfolded_map.update_filter(\n",
    "    'magnitude_filter',\n",
    "    value=(\n",
    "        magnitude_extent[0],\n",
    "        (magnitude_extent[1] + magnitude_extent[0])/2\n",
    "    )\n",
    ")"
   ]
  },
  {
   "cell_type": "markdown",
   "id": "3713bd44-c347-4286-88fc-559e0f085f69",
   "metadata": {},
   "source": [
    "## Controlling the filter from the notebook"
   ]
  },
  {
   "cell_type": "markdown",
   "id": "354b5880-e742-4f6e-af0b-fa4baea7d900",
   "metadata": {},
   "source": [
    "We can use the range slider from `ipywidgets` to control the filter in the map. First, we create the slider:"
   ]
  },
  {
   "cell_type": "code",
   "execution_count": 9,
   "id": "c6428eaf-11cb-4e58-9371-3f85110b28ad",
   "metadata": {},
   "outputs": [],
   "source": [
    "slider = widgets.FloatRangeSlider(\n",
    "    value=magnitude_extent,\n",
    "    min=magnitude_extent[0],\n",
    "    max=magnitude_extent[1],\n",
    "    step=0.5,\n",
    "    description='Magnitude:',\n",
    "    continuous_update=False\n",
    ")"
   ]
  },
  {
   "cell_type": "markdown",
   "id": "6c074621-ce75-4be0-87eb-c7801097ca00",
   "metadata": {},
   "source": [
    "Here we create an event handler to listen to the slider change events:"
   ]
  },
  {
   "cell_type": "code",
   "execution_count": 10,
   "id": "72c1f908-5fdb-435e-a907-296ee2d3daed",
   "metadata": {},
   "outputs": [],
   "source": [
    "def update_value_filter(change):\n",
    "    if 'new' in change and 'value' in change['new']:\n",
    "        unfolded_map.update_filter(\n",
    "            'magnitude_filter',\n",
    "            value = tuple(change['new']['value'])\n",
    "        )"
   ]
  },
  {
   "cell_type": "code",
   "execution_count": 11,
   "id": "fb9c4fb1-cb36-45ae-b95a-f78ea8b31bd5",
   "metadata": {},
   "outputs": [
    {
     "data": {
      "application/vnd.jupyter.widget-view+json": {
       "model_id": "0c07defb2ebf4fa2b14fb010f17bb40b",
       "version_major": 2,
       "version_minor": 0
      },
      "text/plain": [
       "FloatRangeSlider(value=(2.5, 7.39), continuous_update=False, description='Magnitude:', max=7.39, min=2.5, step…"
      ]
     },
     "metadata": {},
     "output_type": "display_data"
    }
   ],
   "source": [
    "slider.observe(update_value_filter)\n",
    "slider"
   ]
  },
  {
   "cell_type": "markdown",
   "id": "59d3c1ab-acee-4755-a8b8-d2d71353855b",
   "metadata": {},
   "source": [
    "Now try moving the slider. You should see the changes applied to the map."
   ]
  },
  {
   "cell_type": "markdown",
   "id": "b045eaab-120a-44a8-94ff-7244deca7aa3",
   "metadata": {},
   "source": [
    "## Syncing the slider in the notebook with the map filter"
   ]
  },
  {
   "cell_type": "markdown",
   "id": "a8530cd1-15d3-48d1-8b63-93bbc43005ec",
   "metadata": {},
   "source": [
    "We can register [event handlers](https://docs.unfolded.ai/map-sdk/api#events) to be notified of filter changes in the map. Here's how we can synchronize the above range slider with the Magnitude filter in the map:"
   ]
  },
  {
   "cell_type": "code",
   "execution_count": null,
   "id": "fc8ec0f8-a9bc-4b6c-9556-230e7bc50c35",
   "metadata": {},
   "outputs": [],
   "source": [
    "def on_filter_sync(info):\n",
    "    if 'magnitude_filter' in info['id']:\n",
    "        slider.value = info['value']\n",
    "\n",
    "unfolded_map.set_event_handlers({\n",
    "    'on_filter_update': on_filter_sync\n",
    "})"
   ]
  },
  {
   "cell_type": "markdown",
   "id": "5be7be1c-a9cd-4767-93ac-93c03a693dcf",
   "metadata": {},
   "source": [
    "Now try changing the \"Magnitude\" filter in the \"Filter\" pane of the left sidebar in the map. You should see the slider above in the notebook update. "
   ]
  },
  {
   "cell_type": "markdown",
   "id": "64c6dedc-b794-4229-99e7-7c2cd8973ad3",
   "metadata": {},
   "source": [
    "The following will unregister the observer:"
   ]
  },
  {
   "cell_type": "code",
   "execution_count": null,
   "id": "b0754560",
   "metadata": {},
   "outputs": [],
   "source": [
    "slider.unobserve(None)"
   ]
  },
  {
   "cell_type": "markdown",
   "id": "6ff338f4-b09e-4732-8269-9ba89351faf0",
   "metadata": {},
   "source": [
    "##  Debugging an event handler"
   ]
  },
  {
   "cell_type": "markdown",
   "id": "344b0e0f-72b7-47dc-94d4-f2093e8351fd",
   "metadata": {},
   "source": [
    "Here's how you can output the event info when filter events are triggered:"
   ]
  },
  {
   "cell_type": "code",
   "execution_count": null,
   "id": "db244886-f74c-4134-a957-8fd4a56e0238",
   "metadata": {},
   "outputs": [],
   "source": [
    "output = widgets.Output()\n",
    "@output.capture(clear_output=True)\n",
    "def on_filter_output(info):\n",
    "    print(info)\n",
    "output"
   ]
  },
  {
   "cell_type": "code",
   "execution_count": null,
   "id": "186bd1f7-d918-4132-8c76-28ebc2a3d8a7",
   "metadata": {},
   "outputs": [],
   "source": [
    "unfolded_map.set_event_handlers({\n",
    "    'on_filter_update': on_filter_output\n",
    "})"
   ]
  },
  {
   "cell_type": "markdown",
   "id": "a3fd2a47",
   "metadata": {},
   "source": [
    "Now when you change the filter in the Unfolded Studio map, you'll see above a printed object like:\n",
    "```py\n",
    "{'id': 'magnitude_filter', 'sources': [{'dataId': '95085e14-3531-4b77-a186-f53ec3311b6f', 'fieldName': 'Magnitude'}], 'type': 'range', 'value': [3.08, 4.29]}\n",
    "```"
   ]
  },
  {
   "cell_type": "code",
   "execution_count": null,
   "id": "842f49db-e9e4-49a8-9f59-1ff7d2115568",
   "metadata": {},
   "outputs": [],
   "source": []
  }
 ],
 "metadata": {
  "kernelspec": {
   "display_name": "example",
   "language": "python",
   "name": "example"
  },
  "language_info": {
   "codemirror_mode": {
    "name": "ipython",
    "version": 3
   },
   "file_extension": ".py",
   "mimetype": "text/x-python",
   "name": "python",
   "nbconvert_exporter": "python",
   "pygments_lexer": "ipython3",
   "version": "3.10.3"
  }
 },
 "nbformat": 4,
 "nbformat_minor": 5
}
