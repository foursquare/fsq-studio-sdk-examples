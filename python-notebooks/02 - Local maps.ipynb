{
 "cells": [
  {
   "cell_type": "markdown",
   "id": "49cc9cb0-7fb2-43dd-9ea7-e255661d8429",
   "metadata": {},
   "source": [
    "# Local maps\n",
    "\n",
    "[![open_in_colab][colab_badge]][colab_notebook_link]\n",
    "<!-- [![open_in_binder][binder_badge]][binder_notebook_link] -->\n",
    "\n",
    "[colab_badge]: https://colab.research.google.com/assets/colab-badge.svg\n",
    "[colab_notebook_link]: https://colab.research.google.com/github/foursquare/fsq-studio-sdk-examples/blob/master/python-notebooks/02%20-%20Local%20maps.ipynb\n",
    "<!-- [binder_badge]: https://mybinder.org/badge_logo.svg\n",
    "[binder_notebook_link]: https://mybinder.org/v2/gh/foursquare/fsq-studio-sdk-examples/master?urlpath=lab/tree/python-notebooks/02%20-%20Local%20maps.ipynb -->"
   ]
  },
  {
   "cell_type": "markdown",
   "id": "fca583fc-260c-495c-8abc-9ca3b4e0b420",
   "metadata": {},
   "source": [
    "Local maps are designed to support ongoing iterative data analysis. You can add data and layers to a local map. Neither the map itself nor any data you add to it is uploaded to the Studio cloud. Note that you still need to use a valid Studio token to create local maps."
   ]
  },
  {
   "cell_type": "markdown",
   "id": "e107ed78",
   "metadata": {},
   "source": [
    "## Dependencies\n",
    "\n",
    "This notebook requires the following Python dependencies:\n",
    "\n",
    "- `foursquare.map-sdk`: the Studio Map SDK\n",
    "- `requests`: for making HTTP requests\n",
    "- `pandas`: DataFrame library\n",
    "\n",
    "If running this notebook in Binder, these dependencies should already be installed. If running in Colab, the next cell will install these dependencies."
   ]
  },
  {
   "cell_type": "code",
   "execution_count": null,
   "id": "c01b52f6",
   "metadata": {},
   "outputs": [],
   "source": [
    "# If in Colab, install this notebook's required dependencies\n",
    "import sys\n",
    "if \"google.colab\" in sys.modules:\n",
    "    !pip install 'foursquare.map_sdk>=1.0' requests pandas"
   ]
  },
  {
   "cell_type": "markdown",
   "id": "7df346c3",
   "metadata": {},
   "source": [
    "## Imports"
   ]
  },
  {
   "cell_type": "code",
   "execution_count": null,
   "id": "99754a1b",
   "metadata": {},
   "outputs": [],
   "source": [
    "from foursquare.map_sdk import create_map\n",
    "from uuid import uuid4\n",
    "import pandas as pd\n",
    "import requests"
   ]
  },
  {
   "cell_type": "markdown",
   "id": "f3c40e00-ce0e-4234-b948-b455b969ec28",
   "metadata": {},
   "source": [
    "To create a local map you just need to call `create_map`:"
   ]
  },
  {
   "cell_type": "code",
   "execution_count": null,
   "id": "71c77df9-1d42-4993-9a0a-d311064d03c9",
   "metadata": {},
   "outputs": [],
   "source": [
    "unfolded_map = create_map()\n",
    "unfolded_map"
   ]
  },
  {
   "cell_type": "markdown",
   "id": "05b6f62b",
   "metadata": {},
   "source": [
    "## Adding datasets"
   ]
  },
  {
   "cell_type": "markdown",
   "id": "d8b6d266-bf79-4e4a-8704-98b0af95aec3",
   "metadata": {},
   "source": [
    "We can add a DataFrame as a dataset to the map. To do this we first set a unique identifier for the dataset, so that we can refer to it later. This dataset identifier can either be a custom string (without spaces) or an arbitrary UUID (universally unique identifier). If you wish to create a UUID, you can use Python's built-in `uuid` library."
   ]
  },
  {
   "cell_type": "code",
   "execution_count": null,
   "id": "3366a68b",
   "metadata": {},
   "outputs": [],
   "source": [
    "# With a UUID:\n",
    "dataset_id = uuid4()\n",
    "\n",
    "# Or with a custom string\n",
    "dataset_id = 'earthquakes-data'"
   ]
  },
  {
   "cell_type": "markdown",
   "id": "6a9b3c46-3f3a-4b5d-a980-7ef3e998513b",
   "metadata": {},
   "source": [
    "### DataFrame"
   ]
  },
  {
   "cell_type": "markdown",
   "id": "9d85dc99-18d2-454c-a476-dab41aaf156c",
   "metadata": {},
   "source": [
    "Now let's load a CSV into a DataFrame and add it as a dataset to the map:"
   ]
  },
  {
   "cell_type": "code",
   "execution_count": null,
   "id": "37ebfcb5",
   "metadata": {},
   "outputs": [],
   "source": [
    "url = 'https://4sq-studio-public.s3.us-west-2.amazonaws.com/sdk/examples/sample-data/earthquakes.csv'\n",
    "unfolded_map.add_dataset({\n",
    "    'id': dataset_id,\n",
    "    'label': 'Earthquakes dataset',\n",
    "    'data': pd.read_csv(url)\n",
    "})"
   ]
  },
  {
   "cell_type": "markdown",
   "id": "4d913c14-4de8-49d2-b401-78527f3069c9",
   "metadata": {},
   "source": [
    "To remove the dataset you can call passing its `id`:"
   ]
  },
  {
   "cell_type": "code",
   "execution_count": null,
   "id": "0ab8deca",
   "metadata": {},
   "outputs": [],
   "source": [
    "unfolded_map.remove_dataset(dataset_id)"
   ]
  },
  {
   "cell_type": "markdown",
   "id": "8d137c8a",
   "metadata": {},
   "source": [
    "### GeoJSON"
   ]
  },
  {
   "cell_type": "markdown",
   "id": "ed3a921b-7438-4974-a7ca-1064c372f5ab",
   "metadata": {},
   "source": [
    "The `add_dataset` method also supports GeoJSON:"
   ]
  },
  {
   "cell_type": "code",
   "execution_count": null,
   "id": "0e891430",
   "metadata": {},
   "outputs": [],
   "source": [
    "url = 'https://4sq-studio-public.s3.us-west-2.amazonaws.com/sdk/examples/sample-data/nyc-census.json'\n",
    "r = requests.get(url)\n",
    "census_tracts_geojson = r.json()\n",
    "unfolded_map.add_dataset({'data': census_tracts_geojson})"
   ]
  },
  {
   "cell_type": "markdown",
   "id": "b5cfea1e-64fc-4d01-9cf2-6e7596e024c6",
   "metadata": {
    "tags": []
   },
   "source": [
    "### CSV"
   ]
  },
  {
   "cell_type": "markdown",
   "id": "3bc09be9-4dfa-422c-b649-1325f3afdfdb",
   "metadata": {},
   "source": [
    "Or CSV passed as a string:"
   ]
  },
  {
   "cell_type": "code",
   "execution_count": null,
   "id": "2d08931d-7e7b-4901-bf48-ea55e78bcd2f",
   "metadata": {},
   "outputs": [],
   "source": [
    "url = 'https://4sq-studio-public.s3.us-west-2.amazonaws.com/sdk/examples/sample-data/earthquakes.csv'\n",
    "r = requests.get(url)\n",
    "earthquakes_csv = r.text"
   ]
  },
  {
   "cell_type": "code",
   "execution_count": null,
   "id": "d0e69c3e-59fe-4942-a042-6b37df3de413",
   "metadata": {},
   "outputs": [],
   "source": [
    "added_dataset = unfolded_map.add_dataset({'data': earthquakes_csv})"
   ]
  }
 ],
 "metadata": {
  "kernelspec": {
   "display_name": "Python 3 (ipykernel)",
   "language": "python",
   "name": "python3"
  },
  "language_info": {
   "codemirror_mode": {
    "name": "ipython",
    "version": 3
   },
   "file_extension": ".py",
   "mimetype": "text/x-python",
   "name": "python",
   "nbconvert_exporter": "python",
   "pygments_lexer": "ipython3",
   "version": "3.8.10"
  }
 },
 "nbformat": 4,
 "nbformat_minor": 5
}
