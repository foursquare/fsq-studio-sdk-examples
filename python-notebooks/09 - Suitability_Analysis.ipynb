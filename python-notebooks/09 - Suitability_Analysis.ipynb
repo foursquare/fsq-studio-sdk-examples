{
 "cells": [
  {
   "cell_type": "markdown",
   "id": "d09ff253-c488-4f17-8e29-69ce2c2054d3",
   "metadata": {},
   "source": [
    "# Suitability Analysis for a new Venue Location\n",
    "\n",
    "[![open_in_colab][colab_badge]][colab_notebook_link]\n",
    "<!-- [![open_in_binder][binder_badge]][binder_notebook_link] -->\n",
    "\n",
    "[colab_badge]: https://colab.research.google.com/assets/colab-badge.svg\n",
    "[colab_notebook_link]: https://colab.research.google.com/github/foursquare/fsq-studio-sdk-examples/blob/master/python-notebooks/09%20-%20Suitability_Analysis.ipynb\n",
    "<!-- [binder_badge]: https://mybinder.org/badge_logo.svg\n",
    "[binder_notebook_link]: https://mybinder.org/v2/gh/foursquare/fsq-studio-sdk-examples/master?urlpath=lab/tree/python-notebooks/09%20-%20Suitability_Analysis.ipynb -->"
   ]
  },
  {
   "cell_type": "markdown",
   "id": "3e555047-0c3d-4061-a72b-4b2b50a67b4b",
   "metadata": {
    "tags": []
   },
   "source": [
    "## Dependencies\n",
    "This notebook uses the following dependencies:\n",
    "\n",
    "* pandas\n",
    "* numpy\n",
    "* scikit-learn\n",
    "* matplotlib\n",
    "* h3\n",
    "* catboost\n",
    "* missingno\n",
    "\n",
    "If running this notebook in Binder, these dependencies should already be installed. If running in Colab, the next cell will install these dependencies. In another environment, you'll need to make sure these dependencies are available by running the following `pip` command in a shell.\n",
    "\n",
    "```\n",
    "pip install pandas numpy scikit-learn seaborn matplotlib h3 catboost missingno\n",
    "```\n",
    "\n",
    "This notebook was originally tested with the following package versions, but likely works with a broad range of versions:\n",
    "\n",
    "* pandas==1.3.3\n",
    "* numpy==1.21.2\n",
    "* scikit-learn==0.24.2\n",
    "* scipy==1.7.1\n",
    "* matplotlib==3.4.3\n",
    "* h3==3.7.3\n",
    "* catboost==0.26.1\n",
    "* missingno==0.5.0"
   ]
  },
  {
   "cell_type": "code",
   "execution_count": null,
   "id": "461e0c43",
   "metadata": {},
   "outputs": [],
   "source": [
    "# If in Colab, install this notebook's required dependencies\n",
    "import sys\n",
    "if \"google.colab\" in sys.modules:\n",
    "    !pip install 'unfolded.map_sdk>=1.0' pandas numpy scikit-learn seaborn matplotlib h3 catboost missingno"
   ]
  },
  {
   "cell_type": "markdown",
   "id": "a58692e5-e401-4fd8-bb08-0361d2fde0cb",
   "metadata": {},
   "source": [
    "## Imports"
   ]
  },
  {
   "cell_type": "code",
   "execution_count": null,
   "id": "02f018d5-69b2-4946-93c4-ce32b8aaa9eb",
   "metadata": {},
   "outputs": [],
   "source": [
    "from uuid import uuid4\n",
    "\n",
    "import h3.api.numpy_int as h3\n",
    "import matplotlib.pyplot as plt\n",
    "import missingno as msno\n",
    "import pandas as pd\n",
    "\n",
    "%matplotlib inline\n",
    "from catboost import CatBoostRegressor\n",
    "from sklearn.cluster import KMeans\n",
    "from sklearn.model_selection import train_test_split\n",
    "from unfolded.map_sdk import create_map"
   ]
  },
  {
   "cell_type": "markdown",
   "id": "cd7f5620-6652-4271-a7e9-64146e678256",
   "metadata": {},
   "source": [
    "## Data Loading"
   ]
  },
  {
   "cell_type": "code",
   "execution_count": null,
   "id": "9752b6fd-c669-4f85-beac-709dc555291f",
   "metadata": {},
   "outputs": [],
   "source": [
    "foot_traffic_url = 'https://actionengine-public.s3.us-east-2.amazonaws.com/common_df.csv'\n",
    "# TODO: Save this DF without an index column\n",
    "cities_url = 'https://actionengine-public.s3.us-east-2.amazonaws.com/cities.csv'\n",
    "\n",
    "# TODO: Convert lon/lat columns to numeric here\n",
    "foot_traffic_df = pd.read_csv(foot_traffic_url)\n",
    "# TODO: Rename this `block_groups`?\n",
    "cities_df = pd.read_csv(cities_url)\n",
    "\n",
    "foot_traffic_df = foot_traffic_df.merge(cities_df, how='left', on=[\n",
    "    \"Neighbourhood Latitude\", \"Neighbourhood Longitude\"\n",
    "])\n",
    "\n",
    "foot_traffic_df.head()"
   ]
  },
  {
   "cell_type": "markdown",
   "id": "621935d4-96d6-4289-88e7-21bc38c86841",
   "metadata": {},
   "source": [
    "## Data Cleaning"
   ]
  },
  {
   "cell_type": "code",
   "execution_count": null,
   "id": "59693821-2f1e-4f55-9417-7628b5acc3d1",
   "metadata": {},
   "outputs": [],
   "source": [
    "def compute_missing_values(df):\n",
    "    \"\"\"Compute missing values of table\"\"\"\n",
    "    # Count of rows that are missing for each column\n",
    "    missing_value_counts = df.isnull().sum()\n",
    "\n",
    "    # Names of columns that have at least one missing row\n",
    "    missing_cols = missing_value_counts[missing_value_counts > 0].index\n",
    "\n",
    "    # Percent missing within each column\n",
    "    missing_value_pct = (missing_value_counts / len(df) * 100).round(1)\n",
    "\n",
    "    # Print how many columns have missing values\n",
    "    print(\n",
    "        f\"Out of {len(df.columns)} columns, there are {len(missing_cols)} columns with missing values.\")\n",
    "\n",
    "    # Print table with information about missing columns\n",
    "    missing_df = pd.DataFrame({\n",
    "        'Missing Values': missing_value_counts[missing_cols],\n",
    "        '% of Total Values': missing_value_pct[missing_cols],\n",
    "    })\n",
    "    print(missing_df)\n",
    "\n",
    "# Look at missing values within foot_traffic_df\n",
    "compute_missing_values(foot_traffic_df)"
   ]
  },
  {
   "cell_type": "markdown",
   "id": "0e56bb03-bd78-4f69-893b-fc16a0fec6d9",
   "metadata": {},
   "source": [
    "Use missingno to graphically show which columns have missing data:"
   ]
  },
  {
   "cell_type": "code",
   "execution_count": null,
   "id": "1a2e46fd-f7b2-49d5-b6e6-10f86d9b1d4b",
   "metadata": {},
   "outputs": [],
   "source": [
    "msno.matrix(foot_traffic_df)"
   ]
  },
  {
   "cell_type": "markdown",
   "id": "c7e68a35-07eb-42c7-9cdf-7db10d654daa",
   "metadata": {},
   "source": [
    "There are many distinct values in the `'Venue Category'` colummn, which we can see by using `value_counts()`. Some of these categories have only one item in the data."
   ]
  },
  {
   "cell_type": "code",
   "execution_count": null,
   "id": "8a2a9e3d-3855-4cb2-9c1f-6b4fe3a7cfcd",
   "metadata": {},
   "outputs": [],
   "source": [
    "foot_traffic_df['Venue Category'].value_counts()"
   ]
  },
  {
   "cell_type": "markdown",
   "id": "7fad96d1-f0a4-4717-b415-0719006b2a0b",
   "metadata": {},
   "source": [
    "Here we'll keep only the categories that have at least 10 venues. You can set your own minimum by changing `MIN_VENUES`."
   ]
  },
  {
   "cell_type": "code",
   "execution_count": null,
   "id": "c1bd676d-7fe2-43ad-bcef-4939c0584d88",
   "metadata": {},
   "outputs": [],
   "source": [
    "MIN_VENUES = 10\n",
    "categories = foot_traffic_df['Venue Category'].value_counts()\n",
    "category_names = categories[categories >= MIN_VENUES].index\n",
    "foot_traffic_df = foot_traffic_df[foot_traffic_df['Venue Category'].isin(category_names)]"
   ]
  },
  {
   "cell_type": "markdown",
   "id": "59cf50e4-df53-4860-98fc-4b3076130ce2",
   "metadata": {},
   "source": [
    "## Data Visualization"
   ]
  },
  {
   "cell_type": "markdown",
   "id": "1280d4fb-9ab3-4cc5-b280-98660ca4270f",
   "metadata": {},
   "source": [
    "Here we'll create a map that clusters by districts with the largest population. Note that since the clustering happens within Foursquare Studio, the clusters change as you zoom in, allowing you to explore your data at various resolutions."
   ]
  },
  {
   "cell_type": "code",
   "execution_count": null,
   "id": "4717052c",
   "metadata": {},
   "outputs": [],
   "source": [
    "population_neighbourhoods = create_map()\n",
    "population_neighbourhoods"
   ]
  },
  {
   "cell_type": "code",
   "execution_count": null,
   "id": "1497a58b-c816-4353-9bdd-638dcd219c1d",
   "metadata": {},
   "outputs": [],
   "source": [
    "neighbourhoods = foot_traffic_df.drop_duplicates(\n",
    "    subset=[\"Neighbourhood Latitude\", \"Neighbourhood Longitude\"]\n",
    ")\n",
    "\n",
    "# Create a persistent dataset ID that we can reference in both add_dataset and add_layer\n",
    "dataset_id = str(uuid4())\n",
    "\n",
    "population_neighbourhoods.add_dataset(\n",
    "    id=dataset_id,\n",
    "    label=\"population_neighbourhoods_NY\",\n",
    "    data=neighbourhoods,\n",
    "    auto_create_layers=False,\n",
    ")\n",
    "\n",
    "population_neighbourhoods.add_layer(\n",
    "    {\n",
    "        \"id\": \"population_neighbourhoods\",\n",
    "        \"label\": \"population in NY\",\n",
    "        \"type\": \"cluster\",\n",
    "        \"data_id\": dataset_id,\n",
    "        \"fields\": {\n",
    "                    \"lat\": \"Neighbourhood Latitude\",\n",
    "                    \"lng\": \"Neighbourhood Longitude\",\n",
    "        },\n",
    "        \"config\": {\n",
    "            \"visual_channels\": {\n",
    "                \"colorScale\": \"quantize\",\n",
    "                \"colorField\": {\"name\": \"Total Population (Estimate)\", \"type\": \"real\"}\n",
    "            },\n",
    "            \"vis_config\": {\n",
    "                \"colorRange\": {\n",
    "                    \"colors\": [\n",
    "                        \"#355C7D\",\n",
    "                        \"#63617F\",\n",
    "                        \"#916681\",\n",
    "                        \"#D88185\",\n",
    "                        \"#E8998D\",\n",
    "                        \"#F8B195\",\n",
    "                    ]\n",
    "                }, \n",
    "            },\n",
    "        },\n",
    "    }\n",
    ")\n",
    "\n",
    "population_neighbourhoods.set_view(longitude=-73.769652, latitude=40.710574, zoom=9)"
   ]
  },
  {
   "cell_type": "markdown",
   "id": "de795d55-b288-491a-9013-b4b6767260bb",
   "metadata": {},
   "source": [
    "This map that clusters by districts with the largest incomes."
   ]
  },
  {
   "cell_type": "code",
   "execution_count": null,
   "id": "dad4f124",
   "metadata": {},
   "outputs": [],
   "source": [
    "incomes_neighbourhoods = create_map()\n",
    "incomes_neighbourhoods"
   ]
  },
  {
   "cell_type": "code",
   "execution_count": null,
   "id": "9a498f96-c4ea-4530-889e-5a0792cda422",
   "metadata": {},
   "outputs": [],
   "source": [
    "# Create a persistent dataset ID that we can reference in both add_dataset and add_layer\n",
    "dataset_id = str(uuid4())\n",
    "\n",
    "incomes_neighbourhoods.add_dataset(\n",
    "    id=dataset_id,\n",
    "    label=\"venues_NY\",\n",
    "    data=neighbourhoods,\n",
    "    auto_create_layers=False,\n",
    ")\n",
    "\n",
    "incomes_neighbourhoods.add_layer(\n",
    "    {\n",
    "        \"id\": \"incomes_neighbourhoods\",\n",
    "        \"label\": \"incomes in NY by neighbourhoods\",\n",
    "        \"type\": \"hexagon\",\n",
    "        \"data_id\": dataset_id,\n",
    "        \"fields\": {\n",
    "                    \"lat\": \"Neighbourhood Latitude\",\n",
    "                    \"lng\": \"Neighbourhood Longitude\",\n",
    "        },\n",
    "        \"config\": {\n",
    "            \"visual_channels\": {\n",
    "                \"colorScale\": \"quantize\",\n",
    "                \"colorField\": {\"name\": \"Median Household Income(Estimate)\", \"type\": \"real\"}\n",
    "            },\n",
    "            \"vis_config\": {\n",
    "                \"colorRange\": {\n",
    "                    \"colors\": [\n",
    "                        \"#006837\",\n",
    "                        \"#31A354\",\n",
    "                        \"#78C679\",\n",
    "                        \"#ADDD8E\",\n",
    "                        \"#D9F0A3\",\n",
    "                        \"#FFFFCC\",\n",
    "                    ]\n",
    "                }, \n",
    "            },\n",
    "        },\n",
    "    }\n",
    ")\n",
    "\n",
    "incomes_neighbourhoods.set_view(longitude=-73.769652, latitude=40.710574, zoom=9)"
   ]
  },
  {
   "cell_type": "markdown",
   "id": "bdf64d72-d122-4b44-930e-ce2a96377d76",
   "metadata": {},
   "source": [
    "## Feature Engineering"
   ]
  },
  {
   "cell_type": "markdown",
   "id": "bca3ee05-a69d-44c0-bb70-61302b65d92d",
   "metadata": {},
   "source": [
    "Group data by district, then count the number of venues of each category for each district, and based on this, make a clustering of districts."
   ]
  },
  {
   "cell_type": "code",
   "execution_count": null,
   "id": "2aaee5e1-46bd-4378-b29b-41c5b9defd84",
   "metadata": {},
   "outputs": [],
   "source": [
    "districts_by_venue_cat = (\n",
    "    foot_traffic_df.groupby([\"District\", \"Venue Category\"])[\"Venue Category\"]\n",
    "    .aggregate(\"count\")\n",
    "    .unstack()\n",
    ")\n",
    "\n",
    "# The groupby creates cells with NaN values for any district that didn't have the given type of venue\n",
    "# Here we replace those NaN values with 0\n",
    "districts_by_venue_cat = districts_by_venue_cat.fillna(0)\n",
    "\n",
    "# Divide each cell by the total number of venues\n",
    "# We sum across the rows and then use that number \n",
    "districts_by_venue_cat = districts_by_venue_cat.div(\n",
    "    districts_by_venue_cat.sum(axis=1), axis=0\n",
    ")"
   ]
  },
  {
   "cell_type": "markdown",
   "id": "ad037f3c-834f-4a8d-ac96-3527884360bf",
   "metadata": {},
   "source": [
    "### Feature Scaling"
   ]
  },
  {
   "cell_type": "markdown",
   "id": "87fd6548-0ce3-480b-9a54-ab2cc961b992",
   "metadata": {},
   "source": [
    "Using the elbow method, we determine how many clusters we can divide the data"
   ]
  },
  {
   "cell_type": "code",
   "execution_count": null,
   "id": "73dba73e-1b4d-4ee4-be73-4f290fea7d2b",
   "metadata": {},
   "outputs": [],
   "source": [
    "# Elbow method for clustering\n",
    "sum_of_squared_distances = []\n",
    "\n",
    "K = range(1, 15)\n",
    "\n",
    "for k in K:\n",
    "    kmeans = KMeans(n_clusters=k, random_state=0).fit(districts_by_venue_cat)\n",
    "    sum_of_squared_distances.append(kmeans.inertia_)\n",
    "\n",
    "plt.figure(figsize=(10, 6))\n",
    "plt.plot(K, sum_of_squared_distances, \"bx-\")\n",
    "plt.title(\"Elbow Method For Optimal k\")"
   ]
  },
  {
   "cell_type": "markdown",
   "id": "3bbe8cb1-b68b-46dd-b82f-7821117a043b",
   "metadata": {},
   "source": [
    "According to the graph above, the optimal value is 7"
   ]
  },
  {
   "cell_type": "code",
   "execution_count": null,
   "id": "3bf97615-85ee-4e51-9e78-5291a17df22a",
   "metadata": {},
   "outputs": [],
   "source": [
    "kclusters = 7\n",
    "\n",
    "# run k-means clustering\n",
    "kmeans = KMeans(n_clusters=kclusters, random_state=0).fit(districts_by_venue_cat)\n",
    "\n",
    "districts_by_venue_cat[\"Label\"] = kmeans.labels_"
   ]
  },
  {
   "cell_type": "markdown",
   "id": "d93785bf-bdf9-4579-b090-386bcce3bc40",
   "metadata": {},
   "source": [
    "Merge the resulting cluster label back onto the main dataset `foot_traffic_df`"
   ]
  },
  {
   "cell_type": "code",
   "execution_count": null,
   "id": "b7d7b71f-4fc4-44c7-8392-61573b36ca99",
   "metadata": {},
   "outputs": [],
   "source": [
    "foot_traffic_df = foot_traffic_df.merge(districts_by_venue_cat[[\"Label\"]], left_on='District', right_index=True)"
   ]
  },
  {
   "cell_type": "markdown",
   "id": "cbfd3c32-f7f2-4790-a37e-d85280470c57",
   "metadata": {},
   "source": [
    "We will leave only those columns that are needed to build the model."
   ]
  },
  {
   "cell_type": "code",
   "execution_count": null,
   "id": "46f6c7f1-6fed-45ff-a0d8-8f31cd6df8a7",
   "metadata": {},
   "outputs": [],
   "source": [
    "final_df = foot_traffic_df[\n",
    "    [\n",
    "        \"Neighbourhood Latitude\",\n",
    "        \"Neighbourhood Longitude\",\n",
    "        \"Venue Category\",\n",
    "        \"Venue Latitude\",\n",
    "        \"Venue Longitude\",\n",
    "        \"County\",\n",
    "        \"District\",\n",
    "        \"Label\",\n",
    "        \"Total Population (Estimate)\",\n",
    "        \"Total Population (MarginOfError)\",\n",
    "        \"Median Household Income(Estimate)\",\n",
    "        \"Median Household Income(MarginOfError)\",\n",
    "        \"raw_device_counts\",\n",
    "    ]\n",
    "]\n",
    "\n",
    "final_df"
   ]
  },
  {
   "cell_type": "markdown",
   "id": "54a321cb-915e-494b-b191-414445aaad34",
   "metadata": {},
   "source": [
    "Visualize the principle of clustering "
   ]
  },
  {
   "cell_type": "code",
   "execution_count": null,
   "id": "0abe4489-9ac3-4590-bcc3-d516fe9331e9",
   "metadata": {},
   "outputs": [],
   "source": [
    "clustering_of_district = create_map()\n",
    "clustering_of_district"
   ]
  },
  {
   "cell_type": "code",
   "execution_count": null,
   "id": "a4072b7c-3f6f-4c09-80ca-9701b2937bf3",
   "metadata": {},
   "outputs": [],
   "source": [
    "# Create a persistent dataset ID that we can reference in both add_dataset and add_layer\n",
    "dataset_id = str(uuid4())\n",
    "\n",
    "clustering_of_district.add_dataset(\n",
    "    id=dataset_id,\n",
    "    label=\"district clustering\",\n",
    "    data=final_df,\n",
    "    auto_create_layers=False,\n",
    ")\n",
    "\n",
    "clustering_of_district.add_layer(\n",
    "    {\n",
    "        \"id\": \"income_neighbourhoods\",\n",
    "        \"label\": \"incomes in NY by neighbourhoods\",\n",
    "        \"type\": \"point\",\n",
    "        \"data_id\": dataset_id,\n",
    "        \"fields\": {\n",
    "                    \"lat\": \"Neighbourhood Latitude\",\n",
    "                    \"lng\": \"Neighbourhood Longitude\",\n",
    "        },\n",
    "        \"config\": {\n",
    "            \"visual_channels\": {\n",
    "                \"colorScale\": \"quantize\",\n",
    "                \"colorField\": {\"name\": \"Label\", \"type\": \"real\"}\n",
    "            },\n",
    "            \"vis_config\": {\n",
    "                \"colorRange\": {\n",
    "                    \"colors\": [\n",
    "                        \"#B35806\",\n",
    "                        \"#F1A340\",\n",
    "                        \"#FEE0B6\",\n",
    "                        \"#D8DAEB\",\n",
    "                        \"#998EC3\",\n",
    "                        \"#542788\",\n",
    "                    ]\n",
    "                }\n",
    "            },\n",
    "        },\n",
    "    }\n",
    ")\n",
    "\n",
    "clustering_of_district.set_view(longitude=-73.769652, latitude=40.710574, zoom=9)"
   ]
  },
  {
   "cell_type": "markdown",
   "id": "a879b3b3-fec3-4446-9d5b-5807c3736374",
   "metadata": {},
   "source": [
    "## Data Preprocessing"
   ]
  },
  {
   "cell_type": "code",
   "execution_count": null,
   "id": "41860ada-5d02-434d-ab8a-e41cceb0074e",
   "metadata": {},
   "outputs": [],
   "source": [
    "final_df.loc[:, \"Venue Latitude\"] = pd.to_numeric(final_df[\"Venue Latitude\"])\n",
    "X = final_df.drop([\"raw_device_counts\"], axis=1)\n",
    "y = final_df[[\"raw_device_counts\"]]"
   ]
  },
  {
   "cell_type": "markdown",
   "id": "547023d9-20d5-4358-a962-97f1f46854c4",
   "metadata": {},
   "source": [
    "## Data Splitting"
   ]
  },
  {
   "cell_type": "markdown",
   "id": "94cce7fc-6b3f-457e-bf56-e3ffcd68efe1",
   "metadata": {},
   "source": [
    "We split the data into training, validation and test sets"
   ]
  },
  {
   "cell_type": "code",
   "execution_count": null,
   "id": "f3950bab-5f6f-49fe-8400-2cdd12e145aa",
   "metadata": {},
   "outputs": [],
   "source": [
    "# dividing training data into test, validation and train\n",
    "X_train, X_test, y_train, y_test = train_test_split(X, y, test_size=0.2, random_state=1)\n",
    "\n",
    "X_train, X_val, y_train, y_val = train_test_split(\n",
    "    X_train, y_train, test_size=0.25, random_state=1\n",
    ")\n",
    "\n",
    "# define categorical features\n",
    "cat_features = list(X.select_dtypes('object').columns)"
   ]
  },
  {
   "cell_type": "markdown",
   "id": "5f64cd40-9de5-4a8a-a437-636365c66f15",
   "metadata": {},
   "source": [
    "As we mentioned before, two important columns contain empty values, for this reason fill them with median value."
   ]
  },
  {
   "cell_type": "code",
   "execution_count": null,
   "id": "8af3b872-2742-49bb-a555-9092bf4fbb8d",
   "metadata": {},
   "outputs": [],
   "source": [
    "empty_values = [\n",
    "    \"Median Household Income(Estimate)\",\n",
    "    \"Median Household Income(MarginOfError)\",\n",
    "]\n",
    "\n",
    "median_values = [\n",
    "    X_train[\"Median Household Income(Estimate)\"].median(axis=0),\n",
    "    X_train[\"Median Household Income(MarginOfError)\"].median(axis=0),\n",
    "]\n",
    "\n",
    "\n",
    "def fill_empty_values(df, columns, median_values):\n",
    "    for col, med in zip(columns, median_values):\n",
    "        df[col].fillna(\n",
    "            med, axis=0, inplace=True,\n",
    "        )\n",
    "\n",
    "\n",
    "fill_empty_values(X_train, empty_values, median_values)\n",
    "fill_empty_values(X_val, empty_values, median_values)\n",
    "fill_empty_values(X_test, empty_values, median_values)"
   ]
  },
  {
   "cell_type": "markdown",
   "id": "22e15762-7a93-4481-a63d-60d9082ee1bd",
   "metadata": {},
   "source": [
    "## Foot Traffic Prediction Model"
   ]
  },
  {
   "cell_type": "markdown",
   "id": "c8950239-101e-4177-aac0-f1599384760f",
   "metadata": {},
   "source": [
    "### Building"
   ]
  },
  {
   "cell_type": "markdown",
   "id": "5ac563d1-66f9-4df5-b038-ef652b9415d2",
   "metadata": {},
   "source": [
    "We use here CatBoost (new open-source machine learning algorithm, developed in 2017 by Yandex company), because it offers a way of handling categorical data. Also builds upon the theory of decision trees and gradient boosting and thus through greedy search create a strong competitive predictive model."
   ]
  },
  {
   "cell_type": "code",
   "execution_count": null,
   "id": "c126d45d-f554-487d-8866-a5174b1fb99c",
   "metadata": {},
   "outputs": [],
   "source": [
    "model = CatBoostRegressor(\n",
    "    iterations=1000, depth=4, learning_rate=0.1, loss_function=\"RMSE\"\n",
    ")\n",
    "\n",
    "model.fit(\n",
    "    X_train, y_train, cat_features=cat_features, eval_set=(X_val, y_val), plot=True\n",
    ")\n",
    "\n",
    "pred = model.predict(X_test)"
   ]
  },
  {
   "cell_type": "markdown",
   "id": "820a1667-ac55-4ed5-8e4f-39e395f81c91",
   "metadata": {},
   "source": [
    "### H3 grid"
   ]
  },
  {
   "cell_type": "markdown",
   "id": "76c827c8-6dc2-46ba-882a-a559a6f2a4c5",
   "metadata": {},
   "source": [
    "Divide all site data with a hexagonal grid"
   ]
  },
  {
   "cell_type": "code",
   "execution_count": null,
   "id": "21ff0480-c3ac-40e7-81db-cd7d379af49d",
   "metadata": {},
   "outputs": [],
   "source": [
    "final_df[\"h3_idx\"] = final_df.apply(\n",
    "    lambda row: h3.geo_to_h3(row[\"Venue Latitude\"], row[\"Venue Longitude\"], 10), axis=1\n",
    ")"
   ]
  },
  {
   "cell_type": "code",
   "execution_count": null,
   "id": "769d5dbb-1070-49c4-ab09-b77a661af534",
   "metadata": {},
   "outputs": [],
   "source": [
    "# Use a lambda function to pick the _first_ mode in case there are multiple modes\n",
    "mode_fn = lambda x: pd.Series.mode(x)[0]\n",
    "\n",
    "grouped_by_h3 = final_df.groupby([\"h3_idx\"]).agg(\n",
    "    {\n",
    "        \"Neighbourhood Latitude\": mode_fn,\n",
    "        \"Neighbourhood Longitude\": mode_fn,\n",
    "        \"County\": mode_fn,\n",
    "        \"District\": mode_fn,\n",
    "        \"Label\": mode_fn,\n",
    "        \"Total Population (Estimate)\": \"mean\",\n",
    "        \"Total Population (MarginOfError)\": \"mean\",\n",
    "        \"Median Household Income(Estimate)\": \"mean\",\n",
    "        \"Median Household Income(MarginOfError)\": \"mean\",\n",
    "    }\n",
    ")\n",
    "grouped_by_h3[['Venue Latitude', 'Venue Longitude']] = list(pd.Series(grouped_by_h3.index).apply(h3.h3_to_geo))"
   ]
  },
  {
   "cell_type": "code",
   "execution_count": null,
   "id": "a0e58b7f-99b2-4427-8221-214ae951e92e",
   "metadata": {},
   "outputs": [],
   "source": [
    "X_test_H3 = grouped_by_h3.reset_index()\n",
    "\n",
    "X_test_H3[\"Venue Category\"] = \"Pizza Place\"\n",
    "\n",
    "X_test_H3 = X_test_H3[\n",
    "    [\n",
    "        \"h3_idx\",\n",
    "        \"Neighbourhood Latitude\",\n",
    "        \"Neighbourhood Longitude\",\n",
    "        \"Venue Category\",\n",
    "        \"Venue Latitude\",\n",
    "        \"Venue Longitude\",\n",
    "        \"County\",\n",
    "        \"District\",\n",
    "        \"Label\",\n",
    "        \"Total Population (Estimate)\",\n",
    "        \"Total Population (MarginOfError)\",\n",
    "        \"Median Household Income(Estimate)\",\n",
    "        \"Median Household Income(MarginOfError)\",\n",
    "    ]\n",
    "]"
   ]
  },
  {
   "cell_type": "markdown",
   "id": "67bea60b-9350-4a9d-9cc4-9bdb35bcb522",
   "metadata": {},
   "source": [
    "### Prediction"
   ]
  },
  {
   "cell_type": "code",
   "execution_count": null,
   "id": "b1b30488-c37b-4862-83d3-28165013ae0b",
   "metadata": {},
   "outputs": [],
   "source": [
    "predicted_data = X_test_H3.copy()\n",
    "\n",
    "X_test_H3 = X_test_H3.drop([\"h3_idx\"], axis=1)\n",
    "\n",
    "predicted_devices_counts_by_h3 = model.predict(X_test_H3)\n",
    "\n",
    "predicted_data[\"raw_device_count\"] = predicted_devices_counts_by_h3\n",
    "predicted_data[\"h3_idx\"] = predicted_data[\"h3_idx\"].apply(lambda x: format(x, 'x'))"
   ]
  },
  {
   "cell_type": "markdown",
   "id": "6a6994a0-5e76-4173-96e5-fda5e64027c9",
   "metadata": {},
   "source": [
    "This map shows the subdivision of a city using a H3 grid."
   ]
  },
  {
   "cell_type": "code",
   "execution_count": null,
   "id": "2fe7d28f",
   "metadata": {},
   "outputs": [],
   "source": [
    "raw_devices_data_by_h3 = create_map()\n",
    "raw_devices_data_by_h3"
   ]
  },
  {
   "cell_type": "code",
   "execution_count": null,
   "id": "dd44e2ec-e2fb-48b9-9072-e32e0dbd820e",
   "metadata": {},
   "outputs": [],
   "source": [
    "# Create a persistent dataset ID that we can reference in both add_dataset and add_layer\n",
    "dataset_id = str(uuid4())\n",
    "\n",
    "raw_devices_data_by_h3.add_dataset(\n",
    "    id=dataset_id,\n",
    "    label=\"venues_NY\",\n",
    "    data=predicted_data,\n",
    "    auto_create_layers=False,\n",
    ")\n",
    "\n",
    "raw_devices_data_by_h3.add_layer(\n",
    "    {\n",
    "        \"id\": \"raw_devices_data_by_h3\",\n",
    "        \"label\": \"h3_idx\",\n",
    "        \"type\": \"h3\",\n",
    "        \"data_id\": dataset_id,\n",
    "        \"fields\": {\n",
    "            \"hex_id\": \"h3_idx\",\n",
    "        },\n",
    "        \"config\": {\n",
    "            \"visual_channels\": {\n",
    "                \"colorField\": {\"name\": \"raw_device_count\", \"type\": \"real\"}\n",
    "            },\n",
    "            \"vis_config\": {\n",
    "                \"opacity\": 0.8,\n",
    "                \"color_range\": {\n",
    "                    \"name\": \"ColorBrewer Reds-6\",\n",
    "                    \"type\": \"singlehue\",\n",
    "                    \"category\": \"ColorBrewer\",\n",
    "                    \"colors\": [\n",
    "                        \"#fee5d9\",\n",
    "                        \"#fcbba1\",\n",
    "                        \"#fc9272\",\n",
    "                        \"#fb6a4a\",\n",
    "                        \"#de2d26\",\n",
    "                        \"#a50f15\",\n",
    "                    ],\n",
    "                }\n",
    "            },\n",
    "        },\n",
    "    }\n",
    ")\n",
    "\n",
    "raw_devices_data_by_h3.set_view(longitude=-73.769652, latitude=40.710574, zoom=9)"
   ]
  },
  {
   "cell_type": "markdown",
   "id": "62939091-0389-481a-9c60-a9e779cd3067",
   "metadata": {},
   "source": [
    "### Visualize results"
   ]
  },
  {
   "cell_type": "markdown",
   "id": "f19dd711-cff6-4516-a7e1-ab74bb9e4b9c",
   "metadata": {},
   "source": [
    "This map shows predicted count of devices by districts of NYC"
   ]
  },
  {
   "cell_type": "code",
   "execution_count": null,
   "id": "0c96f3de",
   "metadata": {},
   "outputs": [],
   "source": [
    "venues_NY = create_map()\n",
    "venues_NY"
   ]
  },
  {
   "cell_type": "code",
   "execution_count": null,
   "id": "0b7cad23-c422-493d-8cc8-be066e8fe7f9",
   "metadata": {},
   "outputs": [],
   "source": [
    "# Create a persistent dataset ID that we can reference in both add_dataset and add_layer\n",
    "dataset_id = str(uuid4())\n",
    "\n",
    "venues_NY.add_dataset(\n",
    "    id=dataset_id,\n",
    "    label=\"venues_NY\",\n",
    "    data=predicted_data,\n",
    "    auto_create_layers=False,\n",
    ")\n",
    "\n",
    "venues_NY.add_layer(\n",
    "    {\n",
    "        \"id\": \"foot_traffic_data_by_venues\",\n",
    "        \"label\": \"Predicted Foot Traffic By raw_device_count\",\n",
    "        \"type\": \"point\",\n",
    "        \"data_id\": dataset_id,\n",
    "        \"fields\": {\n",
    "            \"lat\": \"Venue Latitude\",\n",
    "            \"lng\": \"Venue Longitude\"\n",
    "        },\n",
    "        \"config\": {\n",
    "            \"visual_channels\": {\n",
    "                \"color_scale\": \"quantile\",\n",
    "                \"colorField\": {\"name\": \"raw_device_count\", \"type\": \"real\"}\n",
    "            },\n",
    "            \"vis_config\": {\n",
    "                \"opacity\": 0.08,\n",
    "                \"colorRange\": {\n",
    "                    \"colors\": [\n",
    "                        \"#2B1E3E\",\n",
    "                        \"#343D5E\",\n",
    "                        \"#4F777E\",\n",
    "                        \"#709E87\",\n",
    "                        \"#99BE95\",\n",
    "                        \"#D6DEBF\",\n",
    "                    ],\n",
    "                },\n",
    "            },\n",
    "        },\n",
    "    }\n",
    ")\n",
    "\n",
    "venues_NY.set_view(longitude=-73.769652, latitude=40.710574, zoom=9)"
   ]
  },
  {
   "cell_type": "markdown",
   "id": "d7d6cd99-f2ab-465b-86fa-87321da8cc2c",
   "metadata": {},
   "source": [
    "Visualize the results with a heatmap, we can see the areas with the highest foot traffic"
   ]
  },
  {
   "cell_type": "code",
   "execution_count": null,
   "id": "411e34a7",
   "metadata": {},
   "outputs": [],
   "source": [
    "venues_NY_heatmap = create_map()\n",
    "venues_NY_heatmap"
   ]
  },
  {
   "cell_type": "code",
   "execution_count": null,
   "id": "6497f1e9-b8b6-41c6-8c45-b174394a49e9",
   "metadata": {},
   "outputs": [],
   "source": [
    "# Create a persistent dataset ID that we can reference in both add_dataset and add_layer\n",
    "dataset_id = str(uuid4())\n",
    "\n",
    "venues_NY_heatmap.add_dataset(\n",
    "    id=dataset_id,\n",
    "    label=\"venues_NY\",\n",
    "    data=predicted_data,\n",
    "    auto_create_layers=False,\n",
    ")\n",
    "\n",
    "venues_NY_heatmap.add_layer(\n",
    "    {\n",
    "        \"id\": \"foot_traffic_data_by_venues\",\n",
    "        \"label\": \"Predicted Foot Traffic By raw_device_count\",\n",
    "        \"type\": \"heatmap\",\n",
    "        \"data_id\": dataset_id,\n",
    "        \"fields\": {\n",
    "            \"lat\": \"Venue Latitude\",\n",
    "            \"lng\": \"Venue Longitude\"\n",
    "        },\n",
    "        \"config\": {\n",
    "            \"visual_channels\": {\n",
    "                \"weightField\": {\"name\": \"raw_device_count\", \"type\": \"real\"},\n",
    "                \"weightScale\": \"linear\",\n",
    "            },\n",
    "            \"vis_config\": {\n",
    "                \"opacity\": 0.8,\n",
    "                \"colorRange\": {\n",
    "                    \"name\": \"Global Warming\",\n",
    "                    \"type\": \"sequential\",\n",
    "                    \"category\": \"Uber\",\n",
    "                    \"colors\": [\n",
    "                        \"#5A1846\",\n",
    "                        \"#900C3F\",\n",
    "                        \"#C70039\",\n",
    "                        \"#E3611C\",\n",
    "                        \"#F1920E\",\n",
    "                        \"#FFC300\",\n",
    "                    ],\n",
    "                },\n",
    "                \"radius\": 20,\n",
    "                \"intensity\": 0.7,\n",
    "                \"threshold\": 0.189,\n",
    "            },\n",
    "        },\n",
    "    }\n",
    ")\n",
    "\n",
    "venues_NY_heatmap.set_view(longitude=-73.769652, latitude=40.710574, zoom=9)"
   ]
  }
 ],
 "metadata": {
  "kernelspec": {
   "display_name": "Python 3 (ipykernel)",
   "language": "python",
   "name": "python3"
  },
  "language_info": {
   "codemirror_mode": {
    "name": "ipython",
    "version": 3
   },
   "file_extension": ".py",
   "mimetype": "text/x-python",
   "name": "python",
   "nbconvert_exporter": "python",
   "pygments_lexer": "ipython3",
   "version": "3.8.10"
  }
 },
 "nbformat": 4,
 "nbformat_minor": 5
}
