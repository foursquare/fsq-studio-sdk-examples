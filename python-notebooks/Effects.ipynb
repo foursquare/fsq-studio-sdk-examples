{
 "cells": [
  {
   "cell_type": "markdown",
   "id": "67a24931-da9e-48e1-bc89-984ba427b3f0",
   "metadata": {},
   "source": [
    "This notebook demonstrates how to apply an effect to a map. In this example, we are creating a grid layer with 3D scaling, then applying a light and shadow effect. "
   ]
  },
  {
   "cell_type": "markdown",
   "id": "9a850ede-e884-477d-b75e-1885774e62bf",
   "metadata": {},
   "source": [
    "## Dependencies\n",
    "\n",
    "This notebook requires the following Python dependencies:\n",
    "\n",
    "- `unfolded.map-sdk`: The Studio Map SDK\n",
    "- `pandas`: DataFrame library\n",
    "- `requests`: HTTP request library for retrieving data from a URL\n",
    "\n",
    "The next cell will install these dependencies."
   ]
  },
  {
   "cell_type": "code",
   "execution_count": null,
   "id": "e270c1bd",
   "metadata": {},
   "outputs": [],
   "source": [
    "# If in Colab, install this notebook's required dependencies\n",
    "import sys\n",
    "if \"google.colab\" in sys.modules:\n",
    "    !pip install 'unfolded.map_sdk>=1.0' requests pandas"
   ]
  },
  {
   "cell_type": "markdown",
   "id": "625a1a1c-c122-4369-9fd7-146c6b9ad3fe",
   "metadata": {},
   "source": [
    "## Imports"
   ]
  },
  {
   "cell_type": "code",
   "execution_count": 17,
   "id": "912c7fd1",
   "metadata": {},
   "outputs": [],
   "source": [
    "from unfolded.map_sdk import create_map\n",
    "import pandas as pd\n",
    "import requests"
   ]
  },
  {
   "cell_type": "markdown",
   "id": "471cb04d-b2d3-4928-8e77-80fbfe94cefe",
   "metadata": {
    "tags": []
   },
   "source": [
    "## Retrieving Data\n",
    "\n",
    "This dataset contains earthquake data for the pacific region. Timestamps, lat/lng locations, as well as magnitude and depth are provided. The data is then loaded into a dataframe `df`."
   ]
  },
  {
   "cell_type": "code",
   "execution_count": 18,
   "id": "5a7b6009-6b10-41c9-b90c-d444af710739",
   "metadata": {},
   "outputs": [
    {
     "name": "stdout",
     "output_type": "stream",
     "text": [
      "Data successfully loaded into DataFrame.\n"
     ]
    }
   ],
   "source": [
    "# Define the URL of the JSON file\n",
    "url = \"https://4sq-studio-public.s3.us-west-2.amazonaws.com/sdk/examples/sample-data/earthquakes.json\"\n",
    "\n",
    "# Make a GET request to fetch the data\n",
    "response = requests.get(url)\n",
    "\n",
    "# Check if the request was successful (status code 200)\n",
    "if response.status_code == 200:\n",
    "    # Load the JSON data into a DataFrame\n",
    "    data = response.json()\n",
    "    df = pd.DataFrame(data)\n",
    "    print(\"Data successfully loaded into DataFrame.\")\n",
    "else:\n",
    "    print(\"Failed to fetch JSON data. Status code:\", response.status_code)\n"
   ]
  },
  {
   "cell_type": "markdown",
   "id": "8481834d-3e6b-41f8-a932-275ea55e430b",
   "metadata": {},
   "source": [
    "## Create Map\n",
    "\n",
    "Before we can do anything, let's create and render the map. In most ipython eenvironments, this map will be updated whenever changes are made. However, environments such as databricks require the map to be re-rendered to view any changes."
   ]
  },
  {
   "cell_type": "code",
   "execution_count": 19,
   "id": "a99f3d3f",
   "metadata": {},
   "outputs": [
    {
     "data": {
      "application/vnd.jupyter.widget-view+json": {
       "model_id": "18921b57d90f46e2aa449ac79b0b995e",
       "version_major": 2,
       "version_minor": 0
      },
      "text/plain": [
       "SyncWidgetMap(style={'height': '100%', 'width': '100%'})"
      ]
     },
     "metadata": {},
     "output_type": "display_data"
    }
   ],
   "source": [
    "map = create_map()\n",
    "map"
   ]
  },
  {
   "cell_type": "markdown",
   "id": "6f7bf5dc-2c23-433d-98ed-fbf270c9be83",
   "metadata": {},
   "source": [
    "## Add Data\n",
    "\n",
    "With the map created, we can now add the dataframe to the map as a dataset:"
   ]
  },
  {
   "cell_type": "code",
   "execution_count": 20,
   "id": "679e6166-3b2c-4e59-befb-3326e6998fc4",
   "metadata": {
    "tags": []
   },
   "outputs": [
    {
     "data": {
      "text/plain": [
       "LocalDataset(id='earthquakes', type=<DatasetType.LOCAL: 'local'>, label='Earthquakes', color=(0, 92, 255), fields=[BasicField(name='column_0', label='column_0', type=<BasicFieldType.INTEGER: 'integer'>), TimestampField(name='DateTime', label='DateTime', type=<TimestampFieldType.TIMESTAMP: 'timestamp'>, time_format='YYYY/M/D HH:mm:ss.SSSS'), BasicField(name='Latitude', label='Latitude', type=<BasicFieldType.REAL: 'real'>), BasicField(name='Longitude', label='Longitude', type=<BasicFieldType.REAL: 'real'>), BasicField(name='Depth', label='Depth', type=<BasicFieldType.REAL: 'real'>), BasicField(name='Magnitude', label='Magnitude', type=<BasicFieldType.REAL: 'real'>), BasicField(name='MagType', label='MagType', type=<BasicFieldType.STRING: 'string'>), BasicField(name='NbStations', label='NbStations', type=<BasicFieldType.INTEGER: 'integer'>), BasicField(name='Gap', label='Gap', type=<BasicFieldType.INTEGER: 'integer'>), BasicField(name='Distance', label='Distance', type=<BasicFieldType.INTEGER: 'integer'>), BasicField(name='RMS', label='RMS', type=<BasicFieldType.REAL: 'real'>), BasicField(name='Source', label='Source', type=<BasicFieldType.STRING: 'string'>), BasicField(name='EventID', label='EventID', type=<BasicFieldType.INTEGER: 'integer'>)])"
      ]
     },
     "execution_count": 20,
     "metadata": {},
     "output_type": "execute_result"
    }
   ],
   "source": [
    "map.add_dataset({    \n",
    "    \"id\": \"earthquakes\",\n",
    "    \"label\": \"Earthquakes\",\n",
    "    \"data\": df\n",
    "},\n",
    "    auto_create_layers = False\n",
    ")"
   ]
  },
  {
   "cell_type": "markdown",
   "id": "07a8b000-29ba-411b-ace4-3aa7fb891e30",
   "metadata": {},
   "source": [
    "## Create Layer\n",
    "\n",
    "With the dataset added, we can create a new layer. This layer uses a grid, that, by default aggregates the number of points contained within each square's region. We enable 3D and provide an elevation scale to accentuate height."
   ]
  },
  {
   "cell_type": "code",
   "execution_count": 21,
   "id": "79235ac1",
   "metadata": {
    "tags": []
   },
   "outputs": [
    {
     "data": {
      "text/plain": [
       "Layer(type=<LayerType.GRID: 'grid'>, data_id='earthquakes', fields={'lat': 'Latitude', 'lng': 'Longitude'}, label='new layer', is_visible=True, config=LayerConfig(visual_channels={'colorField': None, 'colorScale': 'quantile', 'sizeField': None, 'sizeScale': 'linear'}, vis_config={'opacity': 0.8, 'worldUnitSize': 26, 'colorRange': {'name': 'Global Warming', 'type': 'sequential', 'category': 'Uber', 'colors': ['#4C0035', '#880030', '#B72F15', '#D6610A', '#EF9100', '#FFC300']}, 'coverage': 1, 'sizeRange': [0, 500], 'percentile': [0, 100], 'elevationPercentile': [0, 100], 'elevationScale': 90, 'enableElevationZoomFactor': True, 'fixedHeight': False, 'colorAggregation': 'count', 'sizeAggregation': 'count', 'enable3d': True}, column_mode=None), id='0dd7f4aa-5725-4448-b113-fe09ed6cc5b7')"
      ]
     },
     "execution_count": 21,
     "metadata": {},
     "output_type": "execute_result"
    }
   ],
   "source": [
    "map.add_layer({\n",
    "    \"type\":\"grid\",\n",
    "    \"data_id\":\"earthquakes\",\n",
    "    \"fields\": {\n",
    "      \"lat\": \"Latitude\",\n",
    "      \"lng\": \"Longitude\"\n",
    "    },\n",
    "    \"config\": {\n",
    "        \"visConfig\": {\n",
    "          \"worldUnitSize\": 26,\n",
    "          \"elevationScale\": 90,\n",
    "          \"enable3d\": True\n",
    "        }\n",
    "    }\n",
    "})"
   ]
  },
  {
   "cell_type": "markdown",
   "id": "10289277-7c08-46b6-aabd-7d7af14b1440",
   "metadata": {},
   "source": [
    "## Set Map Configuration\n",
    "\n",
    "The following calls set the map's state and view for optimal 3D viewing:"
   ]
  },
  {
   "cell_type": "code",
   "execution_count": 22,
   "id": "1c7d8097-8e7e-4bbc-b29d-9401c3c9bdbf",
   "metadata": {},
   "outputs": [
    {
     "data": {
      "text/plain": [
       "View(longitude=-122.47582941779496, latitude=36.7045671093519, zoom=5.920306814575524, pitch=50, bearing=24)"
      ]
     },
     "execution_count": 22,
     "metadata": {},
     "output_type": "execute_result"
    }
   ],
   "source": [
    "map.set_map_config({\n",
    "  \"version\": \"v1\",\n",
    "  \"config\": {\n",
    "    \"mapState\": {\n",
    "        \"pitch\": 50,\n",
    "        \"bearing\": 24,\n",
    "        \"mapViewMode\": \"MODE_3D\",\n",
    "        \n",
    "    }\n",
    "  }\n",
    "})\n",
    "\n",
    "map.set_view({\n",
    "  \"latitude\": 36.7045671093519,\n",
    "  \"longitude\": -122.47582941779496,\n",
    "  \"zoom\": 5.920306814575524\n",
    "})"
   ]
  },
  {
   "cell_type": "markdown",
   "id": "d9ef37d6-ca43-4b90-ae5a-507882059d76",
   "metadata": {},
   "source": [
    "Let's render the map before adding any effects:"
   ]
  },
  {
   "cell_type": "code",
   "execution_count": 24,
   "id": "a50d2730",
   "metadata": {
    "scrolled": true,
    "tags": []
   },
   "outputs": [
    {
     "data": {
      "application/vnd.jupyter.widget-view+json": {
       "model_id": "18921b57d90f46e2aa449ac79b0b995e",
       "version_major": 2,
       "version_minor": 0
      },
      "text/plain": [
       "SyncWidgetMap(style={'height': '100%', 'width': '100%'})"
      ]
     },
     "metadata": {},
     "output_type": "display_data"
    }
   ],
   "source": [
    "map"
   ]
  },
  {
   "cell_type": "markdown",
   "id": "d43b65e9-4e6f-4a31-955e-baf484980ac0",
   "metadata": {},
   "source": [
    "## Create Effect\n",
    "\n",
    "Let's add the light and shadow effect to the map. We will keep the default settings, which attempts to replicate realistic shadowing. To make the shadows clear, we will choose a time where the sun is setting in the West Coast. "
   ]
  },
  {
   "cell_type": "code",
   "execution_count": 25,
   "id": "0bbd2406",
   "metadata": {
    "tags": []
   },
   "outputs": [
    {
     "data": {
      "text/plain": [
       "Effect(is_enabled=True, parameters={'timestamp': 1695250260000, 'timeMode': 'pick', 'shadowIntensity': 0.5, 'shadowColor': [0, 0, 0], 'sunLightColor': [255, 255, 255], 'sunLightIntensity': 1, 'ambientLightColor': [255, 255, 255], 'ambientLightIntensity': 1, 'timezone': 'America/Los_Angeles'}, id='42e13c5e-9653-4230-9e4a-05d4cbf58b78', type=<EffectType.LIGHT_AND_SHADOW: 'light-and-shadow'>)"
      ]
     },
     "execution_count": 25,
     "metadata": {},
     "output_type": "execute_result"
    }
   ],
   "source": [
    "map.add_effect({\n",
    "  \"type\": \"light-and-shadow\",\n",
    "  \"parameters\": {\n",
    "    \"timeMode\": \"pick\",\n",
    "    \"timestamp\": 1695250260000\n",
    "  },\n",
    "})"
   ]
  },
  {
   "cell_type": "markdown",
   "id": "1c5d95f8-e2e5-4894-a186-27b8046b17f3",
   "metadata": {},
   "source": [
    "## Add More Effects\n",
    "\n",
    "We can stack effects atop one another. For example, let's add a hexagonal pixelatation effect to the map:"
   ]
  },
  {
   "cell_type": "code",
   "execution_count": 9,
   "id": "f0afd44a-c970-4161-8496-384475627af4",
   "metadata": {
    "jupyter": {
     "source_hidden": true
    },
    "tags": []
   },
   "outputs": [
    {
     "data": {
      "application/vnd.jupyter.widget-view+json": {
       "model_id": "861333d29c4545d49a5f6eb9f4be6541",
       "version_major": 2,
       "version_minor": 0
      },
      "text/plain": [
       "SyncWidgetMap(style={'height': '100%', 'width': '100%'})"
      ]
     },
     "metadata": {},
     "output_type": "display_data"
    }
   ],
   "source": [
    "map"
   ]
  },
  {
   "cell_type": "code",
   "execution_count": 31,
   "id": "34a31791-e976-4086-996e-77454313f174",
   "metadata": {},
   "outputs": [
    {
     "data": {
      "application/vnd.jupyter.widget-view+json": {
       "model_id": "18921b57d90f46e2aa449ac79b0b995e",
       "version_major": 2,
       "version_minor": 0
      },
      "text/plain": [
       "SyncWidgetMap(style={'height': '100%', 'width': '100%'})"
      ]
     },
     "metadata": {},
     "output_type": "display_data"
    }
   ],
   "source": [
    "map.add_effect({\n",
    "  \"type\": \"hexagonal-pixelate\",\n",
    "    \"parameters\": {\n",
    "    \"scale\": 8.5\n",
    "  },\n",
    "})\n",
    "map"
   ]
  },
  {
   "cell_type": "markdown",
   "id": "48347219-f048-40bc-b824-b0edd63c631f",
   "metadata": {},
   "source": [
    "Let's add a vignette effect as well:"
   ]
  },
  {
   "cell_type": "code",
   "execution_count": 34,
   "id": "6d3a56d7-2e97-4a53-93f0-4b90516ccf00",
   "metadata": {},
   "outputs": [
    {
     "data": {
      "application/vnd.jupyter.widget-view+json": {
       "model_id": "18921b57d90f46e2aa449ac79b0b995e",
       "version_major": 2,
       "version_minor": 0
      },
      "text/plain": [
       "SyncWidgetMap(style={'height': '100%', 'width': '100%'})"
      ]
     },
     "metadata": {},
     "output_type": "display_data"
    }
   ],
   "source": [
    "map.add_effect({\n",
    "  \"type\": \"vignette\"\n",
    "})\n",
    "map"
   ]
  },
  {
   "cell_type": "markdown",
   "id": "9a25c27f-aa83-45ad-afbd-16c854b530c6",
   "metadata": {},
   "source": [
    "Let's add a final effect, this one altering the hue and saturation on the map. This can be useful for quickly changing the color of the map without jumping into layer settings:"
   ]
  },
  {
   "cell_type": "code",
   "execution_count": 35,
   "id": "bfcafd71-12e4-4bf0-b8f0-6c718e2cf03a",
   "metadata": {},
   "outputs": [
    {
     "data": {
      "application/vnd.jupyter.widget-view+json": {
       "model_id": "18921b57d90f46e2aa449ac79b0b995e",
       "version_major": 2,
       "version_minor": 0
      },
      "text/plain": [
       "SyncWidgetMap(style={'height': '100%', 'width': '100%'})"
      ]
     },
     "metadata": {},
     "output_type": "display_data"
    }
   ],
   "source": [
    "map.add_effect({\n",
    "  \"type\": \"hue-saturation\",\n",
    "  \"parameters\": {\n",
    "    \"hue\": 0.6,\n",
    "    \"saturation\": 0.4\n",
    "  }\n",
    "})\n",
    "map"
   ]
  }
 ],
 "metadata": {
  "kernelspec": {
   "display_name": "Python 3 (ipykernel)",
   "language": "python",
   "name": "python3"
  },
  "language_info": {
   "codemirror_mode": {
    "name": "ipython",
    "version": 3
   },
   "file_extension": ".py",
   "mimetype": "text/x-python",
   "name": "python",
   "nbconvert_exporter": "python",
   "pygments_lexer": "ipython3",
   "version": "3.10.2"
  }
 },
 "nbformat": 4,
 "nbformat_minor": 5
}
