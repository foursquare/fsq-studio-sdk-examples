{
 "cells": [
  {
   "cell_type": "markdown",
   "id": "c503aac5-799f-49e5-832e-707cce159865",
   "metadata": {},
   "source": [
    "# Layers\n",
    "\n",
    "[![open_in_colab][colab_badge]][colab_notebook_link]\n",
    "<!-- [![open_in_binder][binder_badge]][binder_notebook_link] -->\n",
    "\n",
    "[colab_badge]: https://colab.research.google.com/assets/colab-badge.svg\n",
    "[colab_notebook_link]: https://colab.research.google.com/github/foursquare/fsq-studio-sdk-examples/blob/master/python-notebooks/03%20-%20Layers.ipynb\n",
    "<!-- [binder_badge]: https://mybinder.org/badge_logo.svg\n",
    "[binder_notebook_link]: https://mybinder.org/v2/gh/foursquare/fsq-studio-sdk-examples/master?urlpath=lab/tree/python-notebooks/03%20-%20Layers.ipynb -->"
   ]
  },
  {
   "cell_type": "markdown",
   "id": "ee33a4da-32cb-40d8-bc74-82c05967fce9",
   "metadata": {},
   "source": [
    "This example demonstrates how [map layers](https://docs.unfolded.ai/studio/layer-guide) can be added and controlled in Studio maps."
   ]
  },
  {
   "cell_type": "markdown",
   "id": "903778ba",
   "metadata": {},
   "source": [
    "## Dependencies\n",
    "\n",
    "This notebook requires the following Python dependencies:\n",
    "\n",
    "- `foursquare.map-sdk`: The Studio Map SDK\n",
    "- `pandas`: DataFrame library\n",
    "\n",
    "If running this notebook in Binder, these dependencies should already be installed. If running in Colab, the next cell will install these dependencies."
   ]
  },
  {
   "cell_type": "code",
   "execution_count": null,
   "id": "35845e80",
   "metadata": {},
   "outputs": [],
   "source": [
    "# If in Colab, install this notebook's required dependencies\n",
    "import sys\n",
    "if \"google.colab\" in sys.modules:\n",
    "    !pip install 'foursquare.map_sdk>=3.0.1' pandas"
   ]
  },
  {
   "cell_type": "markdown",
   "id": "011d4ec8",
   "metadata": {},
   "source": [
    "## Imports"
   ]
  },
  {
   "cell_type": "code",
   "execution_count": 2,
   "id": "020d1aa5",
   "metadata": {},
   "outputs": [],
   "source": [
    "import foursquare.map_sdk as map_sdk\n",
    "import pandas as pd\n",
    "from uuid import uuid4"
   ]
  },
  {
   "cell_type": "markdown",
   "id": "6db32617",
   "metadata": {},
   "source": [
    "## Using Map Layers"
   ]
  },
  {
   "cell_type": "markdown",
   "id": "8855014b-5f90-4fe9-92c2-4491068d3c2f",
   "metadata": {},
   "source": [
    "First, let's create a local map:"
   ]
  },
  {
   "cell_type": "code",
   "execution_count": null,
   "id": "71c77df9-1d42-4993-9a0a-d311064d03c9",
   "metadata": {},
   "outputs": [],
   "source": [
    "map = map_sdk.create_map(\n",
    "  api_key=\"<your-api-key>\"\n",
    ")\n",
    "map"
   ]
  },
  {
   "cell_type": "markdown",
   "id": "b299b022-172c-4a37-b85a-cd02dc4579a8",
   "metadata": {},
   "source": [
    "Let's now load the earthquakes dataset so that we can add it to the map:"
   ]
  },
  {
   "cell_type": "code",
   "execution_count": null,
   "id": "abc29e9d-d2a7-4d39-b45c-9ffccb2bbb6f",
   "metadata": {},
   "outputs": [],
   "source": [
    "url = 'https://4sq-studio-public.s3.us-west-2.amazonaws.com/sdk/examples/sample-data/earthquakes.csv'\n",
    "earthquakes_data = pd.read_csv(url)"
   ]
  },
  {
   "cell_type": "code",
   "execution_count": null,
   "id": "3366a68b",
   "metadata": {},
   "outputs": [],
   "source": [
    "dataset_id=str(uuid4())"
   ]
  },
  {
   "cell_type": "markdown",
   "id": "7bf797a4-6669-4f75-9d16-0a75da8d2dff",
   "metadata": {},
   "source": [
    "Now we add it and set `auto_create_layers` to `False`, so that we can then manually add a layer for this data:"
   ]
  },
  {
   "cell_type": "code",
   "execution_count": null,
   "id": "f60c5de0-240f-46be-8a23-ec856a843214",
   "metadata": {},
   "outputs": [],
   "source": [
    "earthquakes_data"
   ]
  },
  {
   "cell_type": "code",
   "execution_count": null,
   "id": "37ebfcb5",
   "metadata": {},
   "outputs": [],
   "source": [
    "map.add_dataset(map_sdk.LocalDatasetCreationProps(\n",
    "        id=dataset_id,\n",
    "        label='Earthquakes',\n",
    "        data=earthquakes_data\n",
    "    ),\n",
    "    auto_create_layers = False\n",
    ")"
   ]
  },
  {
   "cell_type": "markdown",
   "id": "05b6f62b",
   "metadata": {},
   "source": [
    "## Adding a custom layer"
   ]
  },
  {
   "cell_type": "markdown",
   "id": "cdffa01c-e9a1-495e-aff0-89935a02ae8d",
   "metadata": {},
   "source": [
    "Here we create a custom point layer and specify which fields will be used for `lat`, `lon` and color of the points:"
   ]
  },
  {
   "cell_type": "code",
   "execution_count": null,
   "id": "fa6da747",
   "metadata": {},
   "outputs": [],
   "source": [
    "layer = map_sdk.PointLayer(\n",
    "  id='earthquake_points',\n",
    "  data_id=dataset_id,\n",
    "  columns=map_sdk.PointLayerNeighborsColumns(\n",
    "    lat='Latitude',\n",
    "    lng='Longitude'\n",
    "  ),\n",
    "  label='Earthquakes',\n",
    "  color_column='Depth',\n",
    "  color_column_type='real'\n",
    ")\n",
    "\n",
    "map.add_layer_from_config(layer.to_json())"
   ]
  },
  {
   "cell_type": "markdown",
   "id": "a09abdcd-b7a0-4899-96a6-0b67ad53593f",
   "metadata": {},
   "source": [
    "## Querying map layers"
   ]
  },
  {
   "cell_type": "markdown",
   "id": "f2527984-3080-423f-9528-88879c3c071e",
   "metadata": {
    "tags": []
   },
   "source": [
    "We can obtain the list of layers which are currently in the map:"
   ]
  },
  {
   "cell_type": "code",
   "execution_count": null,
   "id": "99e6e88e-fc00-40f3-b945-58ac56f5d262",
   "metadata": {},
   "outputs": [],
   "source": [
    "layers = map.get_layers()"
   ]
  },
  {
   "cell_type": "markdown",
   "id": "dbc92889-20ac-45c3-915c-7f2301027e95",
   "metadata": {},
   "source": [
    "`layers` is now a list of layers that exist on the map shown above."
   ]
  },
  {
   "cell_type": "code",
   "execution_count": null,
   "id": "ea7f3e8f-c6d5-49e3-b732-3d694ce33784",
   "metadata": {},
   "outputs": [],
   "source": [
    "layers"
   ]
  },
  {
   "cell_type": "markdown",
   "id": "1ddf34fe-93ab-4bb1-a889-766c1a90b1ca",
   "metadata": {},
   "source": [
    "## Toggle layer visibility"
   ]
  },
  {
   "cell_type": "markdown",
   "id": "c2842334-433e-4c03-ac44-dc07e993e412",
   "metadata": {},
   "source": [
    "We can also turn the visibility of layers on and off:"
   ]
  },
  {
   "cell_type": "code",
   "execution_count": null,
   "id": "fa738441-19bd-4660-a3c1-0a62597cbdc7",
   "metadata": {},
   "outputs": [],
   "source": [
    "# Hide layer\n",
    "map.update_layer(\n",
    "  layer_id=layers[0].id,\n",
    "  values=map_sdk.LayerUpdateProps(\n",
    "    is_visible=False\n",
    "  )\n",
    ")"
   ]
  },
  {
   "cell_type": "code",
   "execution_count": null,
   "id": "de1881fb-ef0e-4467-a459-f461b599e3f4",
   "metadata": {},
   "outputs": [],
   "source": [
    "# Show layer again\n",
    "map.update_layer(\n",
    "  layer_id=layers[0].id,\n",
    "  values=map_sdk.LayerUpdateProps(\n",
    "    is_visible=True\n",
    "  )\n",
    ")"
   ]
  },
  {
   "cell_type": "markdown",
   "id": "f0276944-70ec-4895-a465-6ec496457168",
   "metadata": {},
   "source": [
    "## Removing layers"
   ]
  },
  {
   "cell_type": "markdown",
   "id": "72bf17b6-ab65-4c6b-8466-d901d21aa3e1",
   "metadata": {},
   "source": [
    "To remove the points layer, which we previously added, run:"
   ]
  },
  {
   "cell_type": "code",
   "execution_count": null,
   "id": "c15e6ea3",
   "metadata": {},
   "outputs": [],
   "source": [
    "map.remove_layer('earthquake_points')"
   ]
  },
  {
   "cell_type": "markdown",
   "id": "75caaf6f-1420-443e-8fa4-1160a2f093d4",
   "metadata": {},
   "source": [
    "The following will remove the dataset along with all of its layers:"
   ]
  },
  {
   "cell_type": "code",
   "execution_count": null,
   "id": "0ab8deca",
   "metadata": {},
   "outputs": [],
   "source": [
    "map.remove_dataset(dataset_id)"
   ]
  }
 ],
 "metadata": {
  "kernelspec": {
   "display_name": "Python 3 (ipykernel)",
   "language": "python",
   "name": "python3"
  },
  "language_info": {
   "codemirror_mode": {
    "name": "ipython",
    "version": 3
   },
   "file_extension": ".py",
   "mimetype": "text/x-python",
   "name": "python",
   "nbconvert_exporter": "python",
   "pygments_lexer": "ipython3",
   "version": "3.8.10"
  }
 },
 "nbformat": 4,
 "nbformat_minor": 5
}
